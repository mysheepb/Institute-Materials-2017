{
 "cells": [
  {
   "cell_type": "code",
   "execution_count": 1,
   "metadata": {
    "collapsed": true
   },
   "outputs": [],
   "source": [
    "import nltk"
   ]
  },
  {
   "cell_type": "code",
   "execution_count": 32,
   "metadata": {},
   "outputs": [
    {
     "name": "stdout",
     "output_type": "stream",
     "text": [
      "Fellow-Citizens of the Senate and of the House of Representatives:\n",
      "\n",
      "Among the vicissitudes incident to life no event could have filled me with greater anxieties than that of which the notification was transmitted by your order, and received on the 14th day of the present month. On the one hand, I was summoned by my Country, whose voice I can never hear but with veneration and love, from a retreat which I had chosen with the fondest predilection, and, in my flattering hopes, with an immutable decision, as the asylum of my declining years -- a retreat which was rendered every day more necessary as well as more dear to me by the addition of habit to inclination, and of frequent interruptions in my health to the gradual waste committed on it by time. On the other hand, the magnitude and difficulty of the trust to which the voice of my country called me, being sufficient to awaken in the wisest and most experienced of her citizens a distrustful scrutiny into his qualifications, could not but overwhelm with despondence one who (inheriting inferior endowments from nature and unpracticed in the duties of civil administration) ought to be peculiarly conscious of his own deficiencies. In this conflict of emotions all I dare aver is that it has been my faithful study to collect my duty from a just appreciation of every circumstance by which it might be affected. All I dare hope is that if, in executing this task, I have been too much swayed by a grateful remembrance of former instances, or by an affectionate sensibility to this transcendent proof of the confidence of my fellow citizens, and have thence too little consulted my incapacity as well as disinclination for the weighty and untried cares before me, my error will be palliated by the motives which mislead me, and its consequences be judged by my country with some share of the partiality in which they originated.\n",
      "\n",
      "Such being the impressions under which I have, in obedience to the public summons, repaired to the present station, it would be peculiarly improper to omit in this first official act my fervent supplications to that Almighty Being who rules over the universe, who presides in the councils of nations, and whose providential aids can supply every human defect, that His benediction may consecrate to the liberties and happiness of the people of the United States a Government instituted by themselves for these essential purposes, and may enable every instrument employed in its administration to execute with success the functions allotted to his charge. In tendering this homage to the Great Author of every public and private good, I assure myself that it expresses your sentiments not less than my own, nor those of my fellow citizens at large less than either. No people can be bound to acknowledge and adore the Invisible Hand which conducts the affairs of men more than those of the United States. Every step by which they have advanced to the character of an independent nation seems to have been distinguished by some token of providential agency; and in the important revolution just accomplished in the system of their united government the tranquil deliberations and voluntary consent of so many distinct communities from which the event has resulted can not be compared with the means by which most governments have been established without some return of pious gratitude, along with an humble anticipation of the future blessings which the past seem to presage. These reflections, arising out of the present crisis, have forced themselves too strongly on my mind to be suppressed. You will join with me, I trust, in thinking that there are none under the influence of which the proceedings of a new and free government can more auspiciously commence.\n",
      "\n",
      "By the article establishing the executive department it is made the duty of the President \"to recommend to your consideration such measures as he shall judge necessary and expedient.\" The circumstances under which I now meet you will acquit me from entering into that subject further than to refer to the great constitutional charter under which you are assembled, and which, in defining your powers, designates the objects to which your attention is to be given. It will be more consistent with those circumstances, and far more congenial with the feelings which actuate me, to substitute, in place of a recommendation of particular measures, the tribute that is due to the talents, the rectitude, and the patriotism which adorn the characters selected to devise and adopt them. In these honorable qualifications I behold the surest pledges that as on one side no local prejudices or attachments, no separate views nor party animosities, will misdirect the comprehensive and equal eye which ought to watch over this great assemblage of communities and interests, so, on another, that the foundation of our national policy will be laid in the pure and immutable principles of private morality, and the preeminence of free government be exemplified by all the attributes which can win the affections of its citizens and command the respect of the world. I dwell on this prospect with every satisfaction which an ardent love for my country can inspire, since there is no truth more thoroughly established than that there exists in the economy and course of nature an indissoluble union between virtue and happiness; between duty and advantage; between the genuine maxims of an honest and magnanimous policy and the solid rewards of public prosperity and felicity; since we ought to be no less persuaded that the propitious smiles of Heaven can never be expected on a nation that disregards the eternal rules of order and right which Heaven itself has ordained; and since the preservation of the sacred fire of liberty and the destiny of the republican model of government are justly considered, perhaps, as deeply, as finally, staked on the experiment entrusted to the hands of the American people.\n",
      "\n",
      "Besides the ordinary objects submitted to your care, it will remain with your judgment to decide how far an exercise of the occasional power delegated by the fifth article of the Constitution is rendered expedient at the present juncture by the nature of objections which have been urged against the system, or by the degree of inquietude which has given birth to them. Instead of undertaking particular recommendations on this subject, in which I could be guided by no lights derived from official opportunities, I shall again give way to my entire confidence in your discernment and pursuit of the public good; for I assure myself that whilst you carefully avoid every alteration which might endanger the benefits of an united and effective government, or which ought to await the future lessons of experience, a reverence for the characteristic rights of freemen and a regard for the public harmony will sufficiently influence your deliberations on the question how far the former can be impregnably fortified or the latter be safely and advantageously promoted.\n",
      "\n",
      "To the foregoing observations I have one to add, which will be most properly addressed to the House of Representatives. It concerns myself, and will therefore be as brief as possible. When I was first honored with a call into the service of my country, then on the eve of an arduous struggle for its liberties, the light in which I contemplated my duty required that I should renounce every pecuniary compensation. From this resolution I have in no instance departed; and being still under the impressions which produced it, I must decline as inapplicable to myself any share in the personal emoluments which may be indispensably included in a permanent provision for the executive department, and must accordingly pray that the pecuniary estimates for the station in which I am placed may during my continuance in it be limited to such actual expenditures as the public good may be thought to require.\n",
      "\n",
      "Having thus imparted to you my sentiments as they have been awakened by the occasion which brings us together, I shall take my present leave; but not without resorting once more to the benign Parent of the Human Race in humble supplication that, since He has been pleased to favor the American people with opportunities for deliberating in perfect tranquillity, and dispositions for deciding with unparalleled unanimity on a form of government for the security of their union and the advancement of their happiness, so His divine blessing may be equally conspicuous in the enlarged views, the temperate consultations, and the wise measures on which the success of this Government must depend. \n",
      "\n"
     ]
    }
   ],
   "source": [
    "myfile = '/Users/mingyeungcheung/Desktop/inaugural/1789-Washington.txt'\n",
    "wtxt = open(myfile).read()\n",
    "print(wtxt)"
   ]
  },
  {
   "cell_type": "code",
   "execution_count": 33,
   "metadata": {},
   "outputs": [
    {
     "name": "stdout",
     "output_type": "stream",
     "text": [
      "Pretty printing has been turned ON\n"
     ]
    }
   ],
   "source": [
    "# Toggle off/on pretty printing\n",
    "%pprint"
   ]
  },
  {
   "cell_type": "code",
   "execution_count": 34,
   "metadata": {},
   "outputs": [
    {
     "data": {
      "text/plain": [
       "1537"
      ]
     },
     "execution_count": 34,
     "metadata": {},
     "output_type": "execute_result"
    }
   ],
   "source": [
    "wtokens = nltk.word_tokenize(wtxt)\n",
    "len(wtokens) # Number of words in text"
   ]
  },
  {
   "cell_type": "code",
   "execution_count": 35,
   "metadata": {},
   "outputs": [
    {
     "data": {
      "text/plain": [
       "115"
      ]
     },
     "execution_count": 35,
     "metadata": {},
     "output_type": "execute_result"
    }
   ],
   "source": [
    "wfreq = nltk.FreqDist(wtokens)\n",
    "wfreq['the']"
   ]
  },
  {
   "cell_type": "code",
   "execution_count": 36,
   "metadata": {},
   "outputs": [
    {
     "name": "stdout",
     "output_type": "stream",
     "text": [
      "23\n"
     ]
    }
   ],
   "source": [
    "sentcount = wfreq['.'] + wfreq['?'] + wfreq['!']\n",
    "print(sentcount)"
   ]
  },
  {
   "cell_type": "code",
   "execution_count": 37,
   "metadata": {},
   "outputs": [
    {
     "data": {
      "text/plain": [
       "['Fellow-Citizens',\n",
       " 'of',\n",
       " 'the',\n",
       " 'Senate',\n",
       " 'and',\n",
       " 'of',\n",
       " 'the',\n",
       " 'House',\n",
       " 'of',\n",
       " 'Representatives',\n",
       " ':',\n",
       " 'Among',\n",
       " 'the',\n",
       " 'vicissitudes',\n",
       " 'incident',\n",
       " 'to',\n",
       " 'life',\n",
       " 'no',\n",
       " 'event',\n",
       " 'could',\n",
       " 'have',\n",
       " 'filled',\n",
       " 'me',\n",
       " 'with',\n",
       " 'greater',\n",
       " 'anxieties',\n",
       " 'than',\n",
       " 'that',\n",
       " 'of',\n",
       " 'which',\n",
       " 'the',\n",
       " 'notification',\n",
       " 'was',\n",
       " 'transmitted',\n",
       " 'by',\n",
       " 'your',\n",
       " 'order',\n",
       " ',',\n",
       " 'and',\n",
       " 'received',\n",
       " 'on',\n",
       " 'the',\n",
       " '14th',\n",
       " 'day',\n",
       " 'of',\n",
       " 'the',\n",
       " 'present',\n",
       " 'month',\n",
       " '.',\n",
       " 'On']"
      ]
     },
     "execution_count": 37,
     "metadata": {},
     "output_type": "execute_result"
    }
   ],
   "source": [
    "wtokens[:50]"
   ]
  },
  {
   "cell_type": "code",
   "execution_count": 38,
   "metadata": {},
   "outputs": [
    {
     "data": {
      "text/plain": [
       "1429"
      ]
     },
     "execution_count": 38,
     "metadata": {},
     "output_type": "execute_result"
    }
   ],
   "source": [
    "wtokens_nosym = [t for t in wtokens if t.isalnum()]    \n",
    "# alpha-numeric tokens only\n",
    "len(wtokens_nosym)"
   ]
  },
  {
   "cell_type": "code",
   "execution_count": 39,
   "metadata": {},
   "outputs": [
    {
     "data": {
      "text/plain": [
       "['of',\n",
       " 'the',\n",
       " 'Senate',\n",
       " 'and',\n",
       " 'of',\n",
       " 'the',\n",
       " 'House',\n",
       " 'of',\n",
       " 'Representatives',\n",
       " 'Among',\n",
       " 'the',\n",
       " 'vicissitudes',\n",
       " 'incident',\n",
       " 'to',\n",
       " 'life',\n",
       " 'no',\n",
       " 'event',\n",
       " 'could',\n",
       " 'have',\n",
       " 'filled',\n",
       " 'me',\n",
       " 'with',\n",
       " 'greater',\n",
       " 'anxieties',\n",
       " 'than',\n",
       " 'that',\n",
       " 'of',\n",
       " 'which',\n",
       " 'the',\n",
       " 'notification',\n",
       " 'was',\n",
       " 'transmitted',\n",
       " 'by',\n",
       " 'your',\n",
       " 'order',\n",
       " 'and',\n",
       " 'received',\n",
       " 'on',\n",
       " 'the',\n",
       " '14th',\n",
       " 'day',\n",
       " 'of',\n",
       " 'the',\n",
       " 'present',\n",
       " 'month',\n",
       " 'On',\n",
       " 'the',\n",
       " 'one',\n",
       " 'hand',\n",
       " 'I']"
      ]
     },
     "execution_count": 39,
     "metadata": {},
     "output_type": "execute_result"
    }
   ],
   "source": [
    "wtokens_nosym[:50]"
   ]
  },
  {
   "cell_type": "code",
   "execution_count": 40,
   "metadata": {},
   "outputs": [
    {
     "data": {
      "text/plain": [
       "62.130434782608695"
      ]
     },
     "execution_count": 40,
     "metadata": {},
     "output_type": "execute_result"
    }
   ],
   "source": [
    "len(wtokens_nosym)/sentcount"
   ]
  },
  {
   "cell_type": "code",
   "execution_count": 41,
   "metadata": {
    "collapsed": true
   },
   "outputs": [],
   "source": [
    "long = [w for w in wfreq if len(w) >= 13]"
   ]
  },
  {
   "cell_type": "code",
   "execution_count": 42,
   "metadata": {},
   "outputs": [
    {
     "data": {
      "text/plain": [
       "['Fellow-Citizens',\n",
       " 'Representatives',\n",
       " 'interruptions',\n",
       " 'qualifications',\n",
       " 'administration',\n",
       " 'disinclination',\n",
       " 'supplications',\n",
       " 'distinguished',\n",
       " 'deliberations',\n",
       " 'consideration',\n",
       " 'circumstances',\n",
       " 'constitutional',\n",
       " 'recommendation',\n",
       " 'comprehensive',\n",
       " 'recommendations',\n",
       " 'opportunities',\n",
       " 'characteristic',\n",
       " 'advantageously',\n",
       " 'indispensably',\n",
       " 'consultations']"
      ]
     },
     "execution_count": 42,
     "metadata": {},
     "output_type": "execute_result"
    }
   ],
   "source": [
    "long"
   ]
  },
  {
   "cell_type": "code",
   "execution_count": 43,
   "metadata": {},
   "outputs": [
    {
     "data": {
      "text/plain": [
       "20"
      ]
     },
     "execution_count": 43,
     "metadata": {},
     "output_type": "execute_result"
    }
   ],
   "source": [
    "len(long)"
   ]
  },
  {
   "cell_type": "code",
   "execution_count": 44,
   "metadata": {},
   "outputs": [
    {
     "name": "stdout",
     "output_type": "stream",
     "text": [
      "Fellow-Citizens 15 1\n",
      "Representatives 15 2\n",
      "administration 14 2\n",
      "advantageously 14 1\n",
      "characteristic 14 1\n",
      "circumstances 13 2\n",
      "comprehensive 13 1\n",
      "consideration 13 1\n",
      "constitutional 14 1\n",
      "consultations 13 1\n",
      "deliberations 13 2\n",
      "disinclination 14 1\n",
      "distinguished 13 1\n",
      "indispensably 13 1\n",
      "interruptions 13 1\n",
      "opportunities 13 2\n",
      "qualifications 14 2\n",
      "recommendation 14 1\n",
      "recommendations 15 1\n",
      "supplications 13 1\n"
     ]
    }
   ],
   "source": [
    "for w in sorted(long) :\n",
    "    print(w, len(w), wfreq[w])"
   ]
  },
  {
   "cell_type": "code",
   "execution_count": 45,
   "metadata": {
    "collapsed": true
   },
   "outputs": [],
   "source": [
    "from nltk.corpus import PlaintextCorpusReader\n",
    "corpus_root = '/Users/mingyeungcheung/Desktop/inaugural'\n",
    "inaug = PlaintextCorpusReader(corpus_root, '.*\\.txt')"
   ]
  },
  {
   "cell_type": "code",
   "execution_count": 46,
   "metadata": {},
   "outputs": [
    {
     "data": {
      "text/plain": [
       "['1789-Washington.txt',\n",
       " '1793-Washington.txt',\n",
       " '1797-Adams.txt',\n",
       " '1801-Jefferson.txt',\n",
       " '1805-Jefferson.txt',\n",
       " '1809-Madison.txt',\n",
       " '1813-Madison.txt',\n",
       " '1817-Monroe.txt',\n",
       " '1821-Monroe.txt',\n",
       " '1825-Adams.txt',\n",
       " '1829-Jackson.txt',\n",
       " '1833-Jackson.txt',\n",
       " '1837-VanBuren.txt',\n",
       " '1841-Harrison.txt',\n",
       " '1845-Polk.txt',\n",
       " '1849-Taylor.txt',\n",
       " '1853-Pierce.txt',\n",
       " '1857-Buchanan.txt',\n",
       " '1861-Lincoln.txt',\n",
       " '1865-Lincoln.txt',\n",
       " '1869-Grant.txt',\n",
       " '1873-Grant.txt',\n",
       " '1877-Hayes.txt',\n",
       " '1881-Garfield.txt',\n",
       " '1885-Cleveland.txt',\n",
       " '1889-Harrison.txt',\n",
       " '1893-Cleveland.txt',\n",
       " '1897-McKinley.txt',\n",
       " '1901-McKinley.txt',\n",
       " '1905-Roosevelt.txt',\n",
       " '1909-Taft.txt',\n",
       " '1913-Wilson.txt',\n",
       " '1917-Wilson.txt',\n",
       " '1921-Harding.txt',\n",
       " '1925-Coolidge.txt',\n",
       " '1929-Hoover.txt',\n",
       " '1933-Roosevelt.txt',\n",
       " '1937-Roosevelt.txt',\n",
       " '1941-Roosevelt.txt',\n",
       " '1945-Roosevelt.txt',\n",
       " '1949-Truman.txt',\n",
       " '1953-Eisenhower.txt',\n",
       " '1957-Eisenhower.txt',\n",
       " '1961-Kennedy.txt',\n",
       " '1965-Johnson.txt',\n",
       " '1969-Nixon.txt',\n",
       " '1973-Nixon.txt',\n",
       " '1977-Carter.txt',\n",
       " '1981-Reagan.txt',\n",
       " '1985-Reagan.txt',\n",
       " '1989-Bush.txt',\n",
       " '1993-Clinton.txt',\n",
       " '1997-Clinton.txt',\n",
       " '2001-Bush.txt',\n",
       " '2005-Bush-2.txt',\n",
       " '2009-Obama.txt']"
      ]
     },
     "execution_count": 46,
     "metadata": {},
     "output_type": "execute_result"
    }
   ],
   "source": [
    "inaug.fileids()"
   ]
  },
  {
   "cell_type": "code",
   "execution_count": 47,
   "metadata": {},
   "outputs": [
    {
     "name": "stdout",
     "output_type": "stream",
     "text": [
      "[['My', 'fellow', 'citizens', ':'], ['I', 'stand', 'here', 'today', 'humbled', 'by', 'the', 'task', 'before', 'us', ',', 'grateful', 'for', 'the', 'trust', 'you', 'have', 'bestowed', ',', 'mindful', 'of', 'the', 'sacrifices', 'borne', 'by', 'our', 'ancestors', '.'], ['I', 'thank', 'President', 'Bush', 'for', 'his', 'service', 'to', 'our', 'nation', ',', 'as', 'well', 'as', 'the', 'generosity', 'and', 'cooperation', 'he', 'has', 'shown', 'throughout', 'this', 'transition', '.'], ['Forty', '-', 'four', 'Americans', 'have', 'now', 'taken', 'the', 'presidential', 'oath', '.'], ['The', 'words', 'have', 'been', 'spoken', 'during', 'rising', 'tides', 'of', 'prosperity', 'and', 'the', 'still', 'waters', 'of', 'peace', '.'], ['Yet', ',', 'every', 'so', 'often', 'the', 'oath', 'is', 'taken', 'amidst', 'gathering', 'clouds', 'and', 'raging', 'storms', '.'], ['At', 'these', 'moments', ',', 'America', 'has', 'carried', 'on', 'not', 'simply', 'because', 'of', 'the', 'skill', 'or', 'vision', 'of', 'those', 'in', 'high', 'office', ',', 'but', 'because', 'We', 'the', 'People', 'have', 'remained', 'faithful', 'to', 'the', 'ideals', 'of', 'our', 'forbearers', ',', 'and', 'true', 'to', 'our', 'founding', 'documents', '.'], ['So', 'it', 'has', 'been', '.'], ['So', 'it', 'must', 'be', 'with', 'this', 'generation', 'of', 'Americans', '.'], ['That', 'we', 'are', 'in', 'the', 'midst', 'of', 'crisis', 'is', 'now', 'well', 'understood', '.'], ['Our', 'nation', 'is', 'at', 'war', ',', 'against', 'a', 'far', '-', 'reaching', 'network', 'of', 'violence', 'and', 'hatred', '.'], ['Our', 'economy', 'is', 'badly', 'weakened', ',', 'a', 'consequence', 'of', 'greed', 'and', 'irresponsibility', 'on', 'the', 'part', 'of', 'some', ',', 'but', 'also', 'our', 'collective', 'failure', 'to', 'make', 'hard', 'choices', 'and', 'prepare', 'the', 'nation', 'for', 'a', 'new', 'age', '.'], ['Homes', 'have', 'been', 'lost', ';', 'jobs', 'shed', ';', 'businesses', 'shuttered', '.'], ['Our', 'health', 'care', 'is', 'too', 'costly', ';', 'our', 'schools', 'fail', 'too', 'many', ';', 'and', 'each', 'day', 'brings', 'further', 'evidence', 'that', 'the', 'ways', 'we', 'use', 'energy', 'strengthen', 'our', 'adversaries', 'and', 'threaten', 'our', 'planet', '.'], ['These', 'are', 'the', 'indicators', 'of', 'crisis', ',', 'subject', 'to', 'data', 'and', 'statistics', '.'], ['Less', 'measurable', 'but', 'no', 'less', 'profound', 'is', 'a', 'sapping', 'of', 'confidence', 'across', 'our', 'land', '--', 'a', 'nagging', 'fear', 'that', 'America', \"'\", 's', 'decline', 'is', 'inevitable', ',', 'that', 'the', 'next', 'generation', 'must', 'lower', 'its', 'sights', '.'], ['Today', 'I', 'say', 'to', 'you', 'that', 'the', 'challenges', 'we', 'face', 'are', 'real', '.'], ['They', 'are', 'serious', 'and', 'they', 'are', 'many', '.'], ['They', 'will', 'not', 'be', 'met', 'easily', 'or', 'in', 'a', 'short', 'span', 'of', 'time', '.'], ['But', 'know', 'this', ',', 'America', '--', 'they', 'will', 'be', 'met', '.'], ['On', 'this', 'day', ',', 'we', 'gather', 'because', 'we', 'have', 'chosen', 'hope', 'over', 'fear', ',', 'unity', 'of', 'purpose', 'over', 'conflict', 'and', 'discord', '.'], ['On', 'this', 'day', ',', 'we', 'come', 'to', 'proclaim', 'an', 'end', 'to', 'the', 'petty', 'grievances', 'and', 'false', 'promises', ',', 'the', 'recriminations', 'and', 'worn', '-', 'out', 'dogmas', 'that', 'for', 'far', 'too', 'long', 'have', 'strangled', 'our', 'politics', '.'], ['We', 'remain', 'a', 'young', 'nation', ',', 'but', 'in', 'the', 'words', 'of', 'Scripture', ',', 'the', 'time', 'has', 'come', 'to', 'set', 'aside', 'childish', 'things', '.'], ['The', 'time', 'has', 'come', 'to', 'reaffirm', 'our', 'enduring', 'spirit', ';', 'to', 'choose', 'our', 'better', 'history', ';', 'to', 'carry', 'forward', 'that', 'precious', 'gift', ',', 'that', 'noble', 'idea', ',', 'passed', 'on', 'from', 'generation', 'to', 'generation', ':', 'the', 'God', '-', 'given', 'promise', 'that', 'all', 'are', 'equal', ',', 'all', 'are', 'free', ',', 'and', 'all', 'deserve', 'a', 'chance', 'to', 'pursue', 'their', 'full', 'measure', 'of', 'happiness', '.'], ['In', 'reaffirming', 'the', 'greatness', 'of', 'our', 'nation', ',', 'we', 'understand', 'that', 'greatness', 'is', 'never', 'a', 'given', '.'], ['It', 'must', 'be', 'earned', '.'], ['Our', 'journey', 'has', 'never', 'been', 'one', 'of', 'shortcuts', 'or', 'settling', 'for', 'less', '.'], ['It', 'has', 'not', 'been', 'the', 'path', 'for', 'the', 'faint', '-', 'hearted', '--', 'for', 'those', 'who', 'prefer', 'leisure', 'over', 'work', ',', 'or', 'seek', 'only', 'the', 'pleasures', 'of', 'riches', 'and', 'fame', '.'], ['Rather', ',', 'it', 'has', 'been', 'the', 'risk', '-', 'takers', ',', 'the', 'doers', ',', 'the', 'makers', 'of', 'things', \"'\", 'some', 'celebrated', 'but', 'more', 'often', 'men', 'and', 'women', 'obscure', 'in', 'their', 'labor', ',', 'who', 'have', 'carried', 'us', 'up', 'the', 'long', ',', 'rugged', 'path', 'towards', 'prosperity', 'and', 'freedom', '.'], ['For', 'us', ',', 'they', 'packed', 'up', 'their', 'few', 'worldly', 'possessions', 'and', 'traveled', 'across', 'oceans', 'in', 'search', 'of', 'a', 'new', 'life', '.'], ['For', 'us', ',', 'they', 'toiled', 'in', 'sweatshops', 'and', 'settled', 'the', 'West', ';', 'endured', 'the', 'lash', 'of', 'the', 'whip', 'and', 'plowed', 'the', 'hard', 'earth', '.'], ['For', 'us', ',', 'they', 'fought', 'and', 'died', ',', 'in', 'places', 'like', 'Concord', 'and', 'Gettysburg', ';', 'Normandy', 'and', 'Khe', 'Sahn', '.'], ['Time', 'and', 'again', 'these', 'men', 'and', 'women', 'struggled', 'and', 'sacrificed', 'and', 'worked', 'till', 'their', 'hands', 'were', 'raw', 'so', 'that', 'we', 'might', 'live', 'a', 'better', 'life', '.'], ['They', 'saw', 'America', 'as', 'bigger', 'than', 'the', 'sum', 'of', 'our', 'individual', 'ambitions', ';', 'greater', 'than', 'all', 'the', 'differences', 'of', 'birth', 'or', 'wealth', 'or', 'faction', '.'], ['This', 'is', 'the', 'journey', 'we', 'continue', 'today', '.'], ['We', 'remain', 'the', 'most', 'prosperous', ',', 'powerful', 'nation', 'on', 'Earth', '.'], ['Our', 'workers', 'are', 'no', 'less', 'productive', 'than', 'when', 'this', 'crisis', 'began', '.'], ['Our', 'minds', 'are', 'no', 'less', 'inventive', ',', 'our', 'goods', 'and', 'services', 'no', 'less', 'needed', 'than', 'they', 'were', 'last', 'week', 'or', 'last', 'month', 'or', 'last', 'year', '.'], ['Our', 'capacity', 'remains', 'undiminished', '.'], ['But', 'our', 'time', 'of', 'standing', 'pat', ',', 'of', 'protecting', 'narrow', 'interests', 'and', 'putting', 'off', 'unpleasant', 'decisions', '--', 'that', 'time', 'has', 'surely', 'passed', '.'], ['Starting', 'today', ',', 'we', 'must', 'pick', 'ourselves', 'up', ',', 'dust', 'ourselves', 'off', ',', 'and', 'begin', 'again', 'the', 'work', 'of', 'remaking', 'America', '.'], ['For', 'everywhere', 'we', 'look', ',', 'there', 'is', 'work', 'to', 'be', 'done', '.'], ['The', 'state', 'of', 'our', 'economy', 'calls', 'for', 'action', ',', 'bold', 'and', 'swift', ',', 'and', 'we', 'will', 'act', '--', 'not', 'only', 'to', 'create', 'new', 'jobs', ',', 'but', 'to', 'lay', 'a', 'new', 'foundation', 'for', 'growth', '.'], ['We', 'will', 'build', 'the', 'roads', 'and', 'bridges', ',', 'the', 'electric', 'grids', 'and', 'digital', 'lines', 'that', 'feed', 'our', 'commerce', 'and', 'bind', 'us', 'together', '.'], ['We', 'will', 'restore', 'science', 'to', 'its', 'rightful', 'place', ',', 'and', 'wield', 'technology', \"'\", 's', 'wonders', 'to', 'raise', 'health', 'care', \"'\", 's', 'quality', 'and', 'lower', 'its', 'cost', '.'], ['We', 'will', 'harness', 'the', 'sun', 'and', 'the', 'winds', 'and', 'the', 'soil', 'to', 'fuel', 'our', 'cars', 'and', 'run', 'our', 'factories', '.'], ['And', 'we', 'will', 'transform', 'our', 'schools', 'and', 'colleges', 'and', 'universities', 'to', 'meet', 'the', 'demands', 'of', 'a', 'new', 'age', '.'], ['All', 'this', 'we', 'can', 'do', '.'], ['All', 'this', 'we', 'will', 'do', '.'], ['Now', ',', 'there', 'are', 'some', 'who', 'question', 'the', 'scale', 'of', 'our', 'ambitions', '--', 'who', 'suggest', 'that', 'our', 'system', 'cannot', 'tolerate', 'too', 'many', 'big', 'plans', '.']]\n"
     ]
    }
   ],
   "source": [
    "print(inaug.sents('2009-Obama.txt')[:50])"
   ]
  },
  {
   "cell_type": "code",
   "execution_count": 50,
   "metadata": {},
   "outputs": [
    {
     "name": "stdout",
     "output_type": "stream",
     "text": [
      "1538\t24\t64.08333333333333\t1789-Washington.txt\n",
      "147\t4\t36.75\t1793-Washington.txt\n",
      "2585\t37\t69.86486486486487\t1797-Adams.txt\n",
      "1935\t42\t46.07142857142857\t1801-Jefferson.txt\n",
      "2384\t45\t52.977777777777774\t1805-Jefferson.txt\n",
      "1265\t21\t60.23809523809524\t1809-Madison.txt\n",
      "1304\t33\t39.515151515151516\t1813-Madison.txt\n",
      "3693\t122\t30.270491803278688\t1817-Monroe.txt\n",
      "4909\t129\t38.054263565891475\t1821-Monroe.txt\n",
      "3150\t74\t42.567567567567565\t1825-Adams.txt\n",
      "1208\t25\t48.32\t1829-Jackson.txt\n",
      "1267\t30\t42.233333333333334\t1833-Jackson.txt\n",
      "4171\t95\t43.90526315789474\t1837-VanBuren.txt\n",
      "9165\t210\t43.642857142857146\t1841-Harrison.txt\n",
      "5196\t153\t33.96078431372549\t1845-Polk.txt\n",
      "1182\t22\t53.72727272727273\t1849-Taylor.txt\n",
      "3657\t104\t35.16346153846154\t1853-Pierce.txt\n",
      "3098\t89\t34.80898876404494\t1857-Buchanan.txt\n",
      "4005\t138\t29.02173913043478\t1861-Lincoln.txt\n",
      "785\t27\t29.074074074074073\t1865-Lincoln.txt\n",
      "1239\t41\t30.21951219512195\t1869-Grant.txt\n",
      "1478\t44\t33.59090909090909\t1873-Grant.txt\n",
      "2724\t59\t46.16949152542373\t1877-Hayes.txt\n",
      "3239\t112\t28.919642857142858\t1881-Garfield.txt\n",
      "1828\t44\t41.54545454545455\t1885-Cleveland.txt\n",
      "4750\t157\t30.254777070063696\t1889-Harrison.txt\n",
      "2153\t58\t37.12068965517241\t1893-Cleveland.txt\n",
      "4371\t130\t33.62307692307692\t1897-McKinley.txt\n",
      "2450\t100\t24.5\t1901-McKinley.txt\n",
      "1091\t33\t33.06060606060606\t1905-Roosevelt.txt\n",
      "5846\t159\t36.76729559748428\t1909-Taft.txt\n",
      "1905\t68\t28.014705882352942\t1913-Wilson.txt\n",
      "1656\t60\t27.6\t1917-Wilson.txt\n",
      "3756\t149\t25.20805369127517\t1921-Harding.txt\n",
      "4442\t197\t22.548223350253807\t1925-Coolidge.txt\n",
      "3890\t158\t24.620253164556964\t1929-Hoover.txt\n",
      "2063\t85\t24.270588235294117\t1933-Roosevelt.txt\n",
      "2019\t96\t21.03125\t1937-Roosevelt.txt\n",
      "1536\t68\t22.58823529411765\t1941-Roosevelt.txt\n",
      "637\t26\t24.5\t1945-Roosevelt.txt\n",
      "2528\t116\t21.79310344827586\t1949-Truman.txt\n",
      "2775\t123\t22.5609756097561\t1953-Eisenhower.txt\n",
      "1917\t92\t20.83695652173913\t1957-Eisenhower.txt\n",
      "1546\t52\t29.73076923076923\t1961-Kennedy.txt\n",
      "1715\t94\t18.24468085106383\t1965-Johnson.txt\n",
      "2425\t106\t22.87735849056604\t1969-Nixon.txt\n",
      "2028\t69\t29.391304347826086\t1973-Nixon.txt\n",
      "1380\t53\t26.037735849056602\t1977-Carter.txt\n",
      "2801\t127\t22.055118110236222\t1981-Reagan.txt\n",
      "2946\t126\t23.38095238095238\t1985-Reagan.txt\n",
      "2713\t145\t18.71034482758621\t1989-Bush.txt\n",
      "1855\t81\t22.901234567901234\t1993-Clinton.txt\n",
      "2462\t112\t21.982142857142858\t1997-Clinton.txt\n",
      "1825\t97\t18.814432989690722\t2001-Bush.txt\n",
      "2334\t100\t23.34\t2005-Bush-2.txt\n",
      "2726\t112\t24.339285714285715\t2009-Obama.txt\n"
     ]
    }
   ],
   "source": [
    "for f in inaug.fileids():\n",
    "    print(len(inaug.words(f)), len(inaug.sents(f)), \\\n",
    "          len(inaug.words(f)) / len(inaug.sents(f)), f, sep='\\t')"
   ]
  },
  {
   "cell_type": "code",
   "execution_count": 51,
   "metadata": {
    "collapsed": true
   },
   "outputs": [],
   "source": [
    "import re"
   ]
  },
  {
   "cell_type": "code",
   "execution_count": 52,
   "metadata": {},
   "outputs": [
    {
     "data": {
      "text/plain": [
       "['You', 'haven', 't', 'seen', 'Star', 'World']"
      ]
     },
     "execution_count": 52,
     "metadata": {},
     "output_type": "execute_result"
    }
   ],
   "source": [
    "sent = \"You haven't seen Star World...?\"\n",
    "re.findall(r'\\w+', sent) # r -- raw string for the regex"
   ]
  },
  {
   "cell_type": "code",
   "execution_count": 53,
   "metadata": {
    "scrolled": true
   },
   "outputs": [
    {
     "name": "stdout",
     "output_type": "stream",
     "text": [
      "Pretty printing has been turned OFF\n"
     ]
    }
   ],
   "source": [
    "%pprint"
   ]
  },
  {
   "cell_type": "code",
   "execution_count": 54,
   "metadata": {
    "scrolled": true
   },
   "outputs": [
    {
     "data": {
      "text/plain": [
       "['Fellow', 'Citizens', 'of', 'the', 'Senate', 'and', 'of', 'the', 'House', 'of', 'Representatives', 'Among', 'the', 'vicissitudes', 'incident', 'to', 'life', 'no', 'event', 'could', 'have', 'filled', 'me', 'with', 'greater', 'anxieties', 'than', 'that', 'of', 'which', 'the', 'notification', 'was', 'transmitted', 'by', 'your', 'order', 'and', 'received', 'on', 'the', '14th', 'day', 'of', 'the', 'present', 'month', 'On', 'the', 'one', 'hand', 'I', 'was', 'summoned', 'by', 'my', 'Country', 'whose', 'voice', 'I', 'can', 'never', 'hear', 'but', 'with', 'veneration', 'and', 'love', 'from', 'a', 'retreat', 'which', 'I', 'had', 'chosen', 'with', 'the', 'fondest', 'predilection', 'and', 'in', 'my', 'flattering', 'hopes', 'with', 'an', 'immutable', 'decision', 'as', 'the', 'asylum', 'of', 'my', 'declining', 'years', 'a', 'retreat', 'which', 'was', 'rendered', 'every', 'day', 'more', 'necessary', 'as', 'well', 'as', 'more', 'dear', 'to', 'me', 'by', 'the', 'addition', 'of', 'habit', 'to', 'inclination', 'and', 'of', 'frequent', 'interruptions', 'in', 'my', 'health', 'to', 'the', 'gradual', 'waste', 'committed', 'on', 'it', 'by', 'time', 'On', 'the', 'other', 'hand', 'the', 'magnitude', 'and', 'difficulty', 'of', 'the', 'trust', 'to', 'which', 'the', 'voice', 'of', 'my', 'country', 'called', 'me', 'being', 'sufficient', 'to', 'awaken', 'in', 'the', 'wisest', 'and', 'most', 'experienced', 'of', 'her', 'citizens', 'a', 'distrustful', 'scrutiny', 'into', 'his', 'qualifications', 'could', 'not', 'but', 'overwhelm', 'with', 'despondence', 'one', 'who', 'inheriting', 'inferior', 'endowments', 'from', 'nature', 'and', 'unpracticed', 'in', 'the', 'duties', 'of', 'civil', 'administration', 'ought', 'to', 'be', 'peculiarly', 'conscious', 'of', 'his', 'own', 'deficiencies', 'In', 'this', 'conflict', 'of', 'emotions', 'all', 'I', 'dare', 'aver', 'is', 'that', 'it', 'has', 'been', 'my', 'faithful', 'study', 'to', 'collect', 'my', 'duty', 'from', 'a', 'just', 'appreciation', 'of', 'every', 'circumstance', 'by', 'which', 'it', 'might', 'be', 'affected', 'All', 'I', 'dare', 'hope', 'is', 'that', 'if', 'in', 'executing', 'this', 'task', 'I', 'have', 'been', 'too', 'much', 'swayed', 'by', 'a', 'grateful', 'remembrance', 'of', 'former', 'instances', 'or', 'by', 'an', 'affectionate', 'sensibility', 'to', 'this', 'transcendent', 'proof', 'of', 'the', 'confidence', 'of', 'my', 'fellow', 'citizens', 'and', 'have', 'thence', 'too', 'little', 'consulted', 'my', 'incapacity', 'as', 'well', 'as', 'disinclination', 'for', 'the', 'weighty', 'and', 'untried', 'cares', 'before', 'me', 'my', 'error', 'will', 'be', 'palliated', 'by', 'the', 'motives', 'which', 'mislead', 'me', 'and', 'its', 'consequences', 'be', 'judged', 'by', 'my', 'country', 'with', 'some', 'share', 'of', 'the', 'partiality', 'in', 'which', 'they', 'originated', 'Such', 'being', 'the', 'impressions', 'under', 'which', 'I', 'have', 'in', 'obedience', 'to', 'the', 'public', 'summons', 'repaired', 'to', 'the', 'present', 'station', 'it', 'would', 'be', 'peculiarly', 'improper', 'to', 'omit', 'in', 'this', 'first', 'official', 'act', 'my', 'fervent', 'supplications', 'to', 'that', 'Almighty', 'Being', 'who', 'rules', 'over', 'the', 'universe', 'who', 'presides', 'in', 'the', 'councils', 'of', 'nations', 'and', 'whose', 'providential', 'aids', 'can', 'supply', 'every', 'human', 'defect', 'that', 'His', 'benediction', 'may', 'consecrate', 'to', 'the', 'liberties', 'and', 'happiness', 'of', 'the', 'people', 'of', 'the', 'United', 'States', 'a', 'Government', 'instituted', 'by', 'themselves', 'for', 'these', 'essential', 'purposes', 'and', 'may', 'enable', 'every', 'instrument', 'employed', 'in', 'its', 'administration', 'to', 'execute', 'with', 'success', 'the', 'functions', 'allotted', 'to', 'his', 'charge', 'In', 'tendering', 'this', 'homage', 'to', 'the', 'Great', 'Author', 'of', 'every', 'public', 'and', 'private', 'good', 'I', 'assure', 'myself', 'that', 'it', 'expresses', 'your', 'sentiments', 'not', 'less', 'than', 'my', 'own', 'nor', 'those', 'of', 'my', 'fellow', 'citizens', 'at', 'large', 'less', 'than', 'either', 'No', 'people', 'can', 'be', 'bound', 'to', 'acknowledge', 'and', 'adore', 'the', 'Invisible', 'Hand', 'which', 'conducts', 'the', 'affairs', 'of', 'men', 'more', 'than', 'those', 'of', 'the', 'United', 'States', 'Every', 'step', 'by', 'which', 'they', 'have', 'advanced', 'to', 'the', 'character', 'of', 'an', 'independent', 'nation', 'seems', 'to', 'have', 'been', 'distinguished', 'by', 'some', 'token', 'of', 'providential', 'agency', 'and', 'in', 'the', 'important', 'revolution', 'just', 'accomplished', 'in', 'the', 'system', 'of', 'their', 'united', 'government', 'the', 'tranquil', 'deliberations', 'and', 'voluntary', 'consent', 'of', 'so', 'many', 'distinct', 'communities', 'from', 'which', 'the', 'event', 'has', 'resulted', 'can', 'not', 'be', 'compared', 'with', 'the', 'means', 'by', 'which', 'most', 'governments', 'have', 'been', 'established', 'without', 'some', 'return', 'of', 'pious', 'gratitude', 'along', 'with', 'an', 'humble', 'anticipation', 'of', 'the', 'future', 'blessings', 'which', 'the', 'past', 'seem', 'to', 'presage', 'These', 'reflections', 'arising', 'out', 'of', 'the', 'present', 'crisis', 'have', 'forced', 'themselves', 'too', 'strongly', 'on', 'my', 'mind', 'to', 'be', 'suppressed', 'You', 'will', 'join', 'with', 'me', 'I', 'trust', 'in', 'thinking', 'that', 'there', 'are', 'none', 'under', 'the', 'influence', 'of', 'which', 'the', 'proceedings', 'of', 'a', 'new', 'and', 'free', 'government', 'can', 'more', 'auspiciously', 'commence', 'By', 'the', 'article', 'establishing', 'the', 'executive', 'department', 'it', 'is', 'made', 'the', 'duty', 'of', 'the', 'President', 'to', 'recommend', 'to', 'your', 'consideration', 'such', 'measures', 'as', 'he', 'shall', 'judge', 'necessary', 'and', 'expedient', 'The', 'circumstances', 'under', 'which', 'I', 'now', 'meet', 'you', 'will', 'acquit', 'me', 'from', 'entering', 'into', 'that', 'subject', 'further', 'than', 'to', 'refer', 'to', 'the', 'great', 'constitutional', 'charter', 'under', 'which', 'you', 'are', 'assembled', 'and', 'which', 'in', 'defining', 'your', 'powers', 'designates', 'the', 'objects', 'to', 'which', 'your', 'attention', 'is', 'to', 'be', 'given', 'It', 'will', 'be', 'more', 'consistent', 'with', 'those', 'circumstances', 'and', 'far', 'more', 'congenial', 'with', 'the', 'feelings', 'which', 'actuate', 'me', 'to', 'substitute', 'in', 'place', 'of', 'a', 'recommendation', 'of', 'particular', 'measures', 'the', 'tribute', 'that', 'is', 'due', 'to', 'the', 'talents', 'the', 'rectitude', 'and', 'the', 'patriotism', 'which', 'adorn', 'the', 'characters', 'selected', 'to', 'devise', 'and', 'adopt', 'them', 'In', 'these', 'honorable', 'qualifications', 'I', 'behold', 'the', 'surest', 'pledges', 'that', 'as', 'on', 'one', 'side', 'no', 'local', 'prejudices', 'or', 'attachments', 'no', 'separate', 'views', 'nor', 'party', 'animosities', 'will', 'misdirect', 'the', 'comprehensive', 'and', 'equal', 'eye', 'which', 'ought', 'to', 'watch', 'over', 'this', 'great', 'assemblage', 'of', 'communities', 'and', 'interests', 'so', 'on', 'another', 'that', 'the', 'foundation', 'of', 'our', 'national', 'policy', 'will', 'be', 'laid', 'in', 'the', 'pure', 'and', 'immutable', 'principles', 'of', 'private', 'morality', 'and', 'the', 'preeminence', 'of', 'free', 'government', 'be', 'exemplified', 'by', 'all', 'the', 'attributes', 'which', 'can', 'win', 'the', 'affections', 'of', 'its', 'citizens', 'and', 'command', 'the', 'respect', 'of', 'the', 'world', 'I', 'dwell', 'on', 'this', 'prospect', 'with', 'every', 'satisfaction', 'which', 'an', 'ardent', 'love', 'for', 'my', 'country', 'can', 'inspire', 'since', 'there', 'is', 'no', 'truth', 'more', 'thoroughly', 'established', 'than', 'that', 'there', 'exists', 'in', 'the', 'economy', 'and', 'course', 'of', 'nature', 'an', 'indissoluble', 'union', 'between', 'virtue', 'and', 'happiness', 'between', 'duty', 'and', 'advantage', 'between', 'the', 'genuine', 'maxims', 'of', 'an', 'honest', 'and', 'magnanimous', 'policy', 'and', 'the', 'solid', 'rewards', 'of', 'public', 'prosperity', 'and', 'felicity', 'since', 'we', 'ought', 'to', 'be', 'no', 'less', 'persuaded', 'that', 'the', 'propitious', 'smiles', 'of', 'Heaven', 'can', 'never', 'be', 'expected', 'on', 'a', 'nation', 'that', 'disregards', 'the', 'eternal', 'rules', 'of', 'order', 'and', 'right', 'which', 'Heaven', 'itself', 'has', 'ordained', 'and', 'since', 'the', 'preservation', 'of', 'the', 'sacred', 'fire', 'of', 'liberty', 'and', 'the', 'destiny', 'of', 'the', 'republican', 'model', 'of', 'government', 'are', 'justly', 'considered', 'perhaps', 'as', 'deeply', 'as', 'finally', 'staked', 'on', 'the', 'experiment', 'entrusted', 'to', 'the', 'hands', 'of', 'the', 'American', 'people', 'Besides', 'the', 'ordinary', 'objects', 'submitted', 'to', 'your', 'care', 'it', 'will', 'remain', 'with', 'your', 'judgment', 'to', 'decide', 'how', 'far', 'an', 'exercise', 'of', 'the', 'occasional', 'power', 'delegated', 'by', 'the', 'fifth', 'article', 'of', 'the', 'Constitution', 'is', 'rendered', 'expedient', 'at', 'the', 'present', 'juncture', 'by', 'the', 'nature', 'of', 'objections', 'which', 'have', 'been', 'urged', 'against', 'the', 'system', 'or', 'by', 'the', 'degree', 'of', 'inquietude', 'which', 'has', 'given', 'birth', 'to', 'them', 'Instead', 'of', 'undertaking', 'particular', 'recommendations', 'on', 'this', 'subject', 'in', 'which', 'I', 'could', 'be', 'guided', 'by', 'no', 'lights', 'derived', 'from', 'official', 'opportunities', 'I', 'shall', 'again', 'give', 'way', 'to', 'my', 'entire', 'confidence', 'in', 'your', 'discernment', 'and', 'pursuit', 'of', 'the', 'public', 'good', 'for', 'I', 'assure', 'myself', 'that', 'whilst', 'you', 'carefully', 'avoid', 'every', 'alteration', 'which', 'might', 'endanger', 'the', 'benefits', 'of', 'an', 'united', 'and', 'effective', 'government', 'or', 'which', 'ought', 'to', 'await', 'the', 'future', 'lessons', 'of', 'experience', 'a', 'reverence', 'for', 'the', 'characteristic', 'rights', 'of', 'freemen', 'and', 'a', 'regard', 'for', 'the', 'public', 'harmony', 'will', 'sufficiently', 'influence', 'your', 'deliberations', 'on', 'the', 'question', 'how', 'far', 'the', 'former', 'can', 'be', 'impregnably', 'fortified', 'or', 'the', 'latter', 'be', 'safely', 'and', 'advantageously', 'promoted', 'To', 'the', 'foregoing', 'observations', 'I', 'have', 'one', 'to', 'add', 'which', 'will', 'be', 'most', 'properly', 'addressed', 'to', 'the', 'House', 'of', 'Representatives', 'It', 'concerns', 'myself', 'and', 'will', 'therefore', 'be', 'as', 'brief', 'as', 'possible', 'When', 'I', 'was', 'first', 'honored', 'with', 'a', 'call', 'into', 'the', 'service', 'of', 'my', 'country', 'then', 'on', 'the', 'eve', 'of', 'an', 'arduous', 'struggle', 'for', 'its', 'liberties', 'the', 'light', 'in', 'which', 'I', 'contemplated', 'my', 'duty', 'required', 'that', 'I', 'should', 'renounce', 'every', 'pecuniary', 'compensation', 'From', 'this', 'resolution', 'I', 'have', 'in', 'no', 'instance', 'departed', 'and', 'being', 'still', 'under', 'the', 'impressions', 'which', 'produced', 'it', 'I', 'must', 'decline', 'as', 'inapplicable', 'to', 'myself', 'any', 'share', 'in', 'the', 'personal', 'emoluments', 'which', 'may', 'be', 'indispensably', 'included', 'in', 'a', 'permanent', 'provision', 'for', 'the', 'executive', 'department', 'and', 'must', 'accordingly', 'pray', 'that', 'the', 'pecuniary', 'estimates', 'for', 'the', 'station', 'in', 'which', 'I', 'am', 'placed', 'may', 'during', 'my', 'continuance', 'in', 'it', 'be', 'limited', 'to', 'such', 'actual', 'expenditures', 'as', 'the', 'public', 'good', 'may', 'be', 'thought', 'to', 'require', 'Having', 'thus', 'imparted', 'to', 'you', 'my', 'sentiments', 'as', 'they', 'have', 'been', 'awakened', 'by', 'the', 'occasion', 'which', 'brings', 'us', 'together', 'I', 'shall', 'take', 'my', 'present', 'leave', 'but', 'not', 'without', 'resorting', 'once', 'more', 'to', 'the', 'benign', 'Parent', 'of', 'the', 'Human', 'Race', 'in', 'humble', 'supplication', 'that', 'since', 'He', 'has', 'been', 'pleased', 'to', 'favor', 'the', 'American', 'people', 'with', 'opportunities', 'for', 'deliberating', 'in', 'perfect', 'tranquillity', 'and', 'dispositions', 'for', 'deciding', 'with', 'unparalleled', 'unanimity', 'on', 'a', 'form', 'of', 'government', 'for', 'the', 'security', 'of', 'their', 'union', 'and', 'the', 'advancement', 'of', 'their', 'happiness', 'so', 'His', 'divine', 'blessing', 'may', 'be', 'equally', 'conspicuous', 'in', 'the', 'enlarged', 'views', 'the', 'temperate', 'consultations', 'and', 'the', 'wise', 'measures', 'on', 'which', 'the', 'success', 'of', 'this', 'Government', 'must', 'depend']"
      ]
     },
     "execution_count": 54,
     "metadata": {},
     "output_type": "execute_result"
    }
   ],
   "source": [
    "re.findall(r'\\w+', wtxt)"
   ]
  },
  {
   "cell_type": "code",
   "execution_count": 56,
   "metadata": {
    "collapsed": true
   },
   "outputs": [],
   "source": [
    "re.findall??"
   ]
  },
  {
   "cell_type": "code",
   "execution_count": 58,
   "metadata": {},
   "outputs": [
    {
     "ename": "SyntaxError",
     "evalue": "invalid syntax (<ipython-input-58-151cd9cc8776>, line 1)",
     "output_type": "error",
     "traceback": [
      "\u001b[0;36m  File \u001b[0;32m\"<ipython-input-58-151cd9cc8776>\"\u001b[0;36m, line \u001b[0;32m1\u001b[0m\n\u001b[0;31m    FreqDist()?\u001b[0m\n\u001b[0m              ^\u001b[0m\n\u001b[0;31mSyntaxError\u001b[0m\u001b[0;31m:\u001b[0m invalid syntax\n"
     ]
    }
   ],
   "source": []
  },
  {
   "cell_type": "code",
   "execution_count": 62,
   "metadata": {},
   "outputs": [],
   "source": [
    "nltk?"
   ]
  },
  {
   "cell_type": "code",
   "execution_count": 63,
   "metadata": {
    "collapsed": true
   },
   "outputs": [],
   "source": [
    "nltk.FreqDist?"
   ]
  },
  {
   "cell_type": "code",
   "execution_count": null,
   "metadata": {
    "collapsed": true
   },
   "outputs": [],
   "source": []
  }
 ],
 "metadata": {
  "kernelspec": {
   "display_name": "Python 3",
   "language": "python",
   "name": "python3"
  },
  "language_info": {
   "codemirror_mode": {
    "name": "ipython",
    "version": 3
   },
   "file_extension": ".py",
   "mimetype": "text/x-python",
   "name": "python",
   "nbconvert_exporter": "python",
   "pygments_lexer": "ipython3",
   "version": "3.6.1"
  }
 },
 "nbformat": 4,
 "nbformat_minor": 2
}
