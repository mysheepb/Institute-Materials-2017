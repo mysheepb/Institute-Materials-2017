{
 "cells": [
  {
   "cell_type": "code",
   "execution_count": 1,
   "metadata": {},
   "outputs": [
    {
     "name": "stdout",
     "output_type": "stream",
     "text": [
      "hello\n"
     ]
    }
   ],
   "source": [
    "print(\"hello\")"
   ]
  },
  {
   "cell_type": "code",
   "execution_count": 2,
   "metadata": {},
   "outputs": [
    {
     "data": {
      "text/plain": [
       "'Hello, world! I come in peace. How can I help you?'"
      ]
     },
     "execution_count": 2,
     "metadata": {},
     "output_type": "execute_result"
    }
   ],
   "source": [
    "greet = \"Hello, world!\"\n",
    "greet = greet + \" I come in peace.\" + \" How can I help you?\"\n",
    "greet"
   ]
  },
  {
   "cell_type": "code",
   "execution_count": 3,
   "metadata": {},
   "outputs": [
    {
     "data": {
      "text/plain": [
       "False"
      ]
     },
     "execution_count": 3,
     "metadata": {},
     "output_type": "execute_result"
    }
   ],
   "source": [
    "'hello'.isdigit()"
   ]
  },
  {
   "cell_type": "code",
   "execution_count": 4,
   "metadata": {
    "scrolled": true
   },
   "outputs": [
    {
     "data": {
      "text/plain": [
       "False"
      ]
     },
     "execution_count": 4,
     "metadata": {},
     "output_type": "execute_result"
    }
   ],
   "source": [
    "greet2 = \"Hello world\"\n",
    "greet2.isalnum()"
   ]
  },
  {
   "cell_type": "code",
   "execution_count": 5,
   "metadata": {},
   "outputs": [
    {
     "data": {
      "text/plain": [
       "6"
      ]
     },
     "execution_count": 5,
     "metadata": {},
     "output_type": "execute_result"
    }
   ],
   "source": [
    "li = ['red', 'blue', 'green', 'black', 'white', 'pink']\n",
    "len(li)"
   ]
  },
  {
   "cell_type": "code",
   "execution_count": 6,
   "metadata": {},
   "outputs": [
    {
     "data": {
      "text/plain": [
       "False"
      ]
     },
     "execution_count": 6,
     "metadata": {},
     "output_type": "execute_result"
    }
   ],
   "source": [
    "# try locial operators not, and, or\n",
    "'mauve' in li"
   ]
  },
  {
   "cell_type": "code",
   "execution_count": 7,
   "metadata": {},
   "outputs": [
    {
     "name": "stdout",
     "output_type": "stream",
     "text": [
      "['red', 'blue', 'green', 'black', 'white', 'pink', 'mauve', 'orange', 'purple']\n"
     ]
    }
   ],
   "source": [
    "li.append('mauve')\n",
    "li.append('orange')\n",
    "li.append('purple')\n",
    "print(li)"
   ]
  },
  {
   "cell_type": "code",
   "execution_count": 8,
   "metadata": {},
   "outputs": [
    {
     "data": {
      "text/plain": [
       "['orange']"
      ]
     },
     "execution_count": 8,
     "metadata": {},
     "output_type": "execute_result"
    }
   ],
   "source": [
    "li[-2:-1]"
   ]
  },
  {
   "cell_type": "code",
   "execution_count": 9,
   "metadata": {},
   "outputs": [
    {
     "name": "stdout",
     "output_type": "stream",
     "text": [
      "'Red' is 3 characters long.\n",
      "--\n",
      "'Blue' is 4 characters long.\n",
      "--\n",
      "'Green' is 5 characters long.\n",
      "--\n",
      "'Black' is 5 characters long.\n",
      "--\n",
      "'White' is 5 characters long.\n",
      "--\n",
      "'Pink' is 4 characters long.\n",
      "--\n",
      "'Mauve' is 5 characters long.\n",
      "--\n",
      "'Orange' is 6 characters long.\n",
      "--\n",
      "'Purple' is 6 characters long.\n",
      "--\n",
      "Done!\n"
     ]
    }
   ],
   "source": [
    "for x in li :\n",
    "    print(\"'\" + x.capitalize() + \"'\", \"is\", len(x), \"characters long.\")\n",
    "    print('--')\n",
    "print(\"Done!\")"
   ]
  },
  {
   "cell_type": "code",
   "execution_count": 10,
   "metadata": {},
   "outputs": [
    {
     "data": {
      "text/plain": [
       "['GREEN', 'BLACK', 'WHITE', 'MAUVE', 'ORANGE', 'PURPLE']"
      ]
     },
     "execution_count": 10,
     "metadata": {},
     "output_type": "execute_result"
    }
   ],
   "source": [
    "[x.upper() for x in li if (len(x)>=5)]"
   ]
  },
  {
   "cell_type": "code",
   "execution_count": 11,
   "metadata": {},
   "outputs": [
    {
     "data": {
      "text/plain": [
       "35"
      ]
     },
     "execution_count": 11,
     "metadata": {},
     "output_type": "execute_result"
    }
   ],
   "source": [
    "di = {'Homer':35, 'Marge':35, 'Bartr':10, 'Lisa':8, 'Maggie':2}\n",
    "di['Marge']"
   ]
  },
  {
   "cell_type": "code",
   "execution_count": 12,
   "metadata": {},
   "outputs": [
    {
     "data": {
      "text/plain": [
       "5"
      ]
     },
     "execution_count": 12,
     "metadata": {},
     "output_type": "execute_result"
    }
   ],
   "source": [
    "len(di)"
   ]
  },
  {
   "cell_type": "code",
   "execution_count": 13,
   "metadata": {
    "collapsed": true
   },
   "outputs": [],
   "source": [
    "import nltk"
   ]
  },
  {
   "cell_type": "code",
   "execution_count": 87,
   "metadata": {},
   "outputs": [
    {
     "name": "stdout",
     "output_type": "stream",
     "text": [
      "showing info https://raw.githubusercontent.com/nltk/nltk_data/gh-pages/index.xml\n"
     ]
    },
    {
     "ename": "UnicodeDecodeError",
     "evalue": "'utf-8' codec can't decode byte 0x89 in position 0: invalid start byte",
     "output_type": "error",
     "traceback": [
      "\u001b[0;31m---------------------------------------------------------------------------\u001b[0m",
      "\u001b[0;31mUnicodeDecodeError\u001b[0m                        Traceback (most recent call last)",
      "\u001b[0;32m<ipython-input-87-a1a554e5d735>\u001b[0m in \u001b[0;36m<module>\u001b[0;34m()\u001b[0m\n\u001b[0;32m----> 1\u001b[0;31m \u001b[0mnltk\u001b[0m\u001b[0;34m.\u001b[0m\u001b[0mdownload\u001b[0m\u001b[0;34m(\u001b[0m\u001b[0;34m)\u001b[0m\u001b[0;34m\u001b[0m\u001b[0m\n\u001b[0m",
      "\u001b[0;32m/Users/mingyeungcheung/anaconda/lib/python3.6/site-packages/nltk/downloader.py\u001b[0m in \u001b[0;36mdownload\u001b[0;34m(self, info_or_id, download_dir, quiet, force, prefix, halt_on_error, raise_on_error)\u001b[0m\n\u001b[1;32m    659\u001b[0m             \u001b[0;31m# function should make a new copy of self to use?\u001b[0m\u001b[0;34m\u001b[0m\u001b[0;34m\u001b[0m\u001b[0m\n\u001b[1;32m    660\u001b[0m             \u001b[0;32mif\u001b[0m \u001b[0mdownload_dir\u001b[0m \u001b[0;32mis\u001b[0m \u001b[0;32mnot\u001b[0m \u001b[0;32mNone\u001b[0m\u001b[0;34m:\u001b[0m \u001b[0mself\u001b[0m\u001b[0;34m.\u001b[0m\u001b[0m_download_dir\u001b[0m \u001b[0;34m=\u001b[0m \u001b[0mdownload_dir\u001b[0m\u001b[0;34m\u001b[0m\u001b[0m\n\u001b[0;32m--> 661\u001b[0;31m             \u001b[0mself\u001b[0m\u001b[0;34m.\u001b[0m\u001b[0m_interactive_download\u001b[0m\u001b[0;34m(\u001b[0m\u001b[0;34m)\u001b[0m\u001b[0;34m\u001b[0m\u001b[0m\n\u001b[0m\u001b[1;32m    662\u001b[0m             \u001b[0;32mreturn\u001b[0m \u001b[0;32mTrue\u001b[0m\u001b[0;34m\u001b[0m\u001b[0m\n\u001b[1;32m    663\u001b[0m \u001b[0;34m\u001b[0m\u001b[0m\n",
      "\u001b[0;32m/Users/mingyeungcheung/anaconda/lib/python3.6/site-packages/nltk/downloader.py\u001b[0m in \u001b[0;36m_interactive_download\u001b[0;34m(self)\u001b[0m\n\u001b[1;32m    980\u001b[0m         \u001b[0;32mif\u001b[0m \u001b[0mTKINTER\u001b[0m\u001b[0;34m:\u001b[0m\u001b[0;34m\u001b[0m\u001b[0m\n\u001b[1;32m    981\u001b[0m             \u001b[0;32mtry\u001b[0m\u001b[0;34m:\u001b[0m\u001b[0;34m\u001b[0m\u001b[0m\n\u001b[0;32m--> 982\u001b[0;31m                 \u001b[0mDownloaderGUI\u001b[0m\u001b[0;34m(\u001b[0m\u001b[0mself\u001b[0m\u001b[0;34m)\u001b[0m\u001b[0;34m.\u001b[0m\u001b[0mmainloop\u001b[0m\u001b[0;34m(\u001b[0m\u001b[0;34m)\u001b[0m\u001b[0;34m\u001b[0m\u001b[0m\n\u001b[0m\u001b[1;32m    983\u001b[0m             \u001b[0;32mexcept\u001b[0m \u001b[0mTclError\u001b[0m\u001b[0;34m:\u001b[0m\u001b[0;34m\u001b[0m\u001b[0m\n\u001b[1;32m    984\u001b[0m                 \u001b[0mDownloaderShell\u001b[0m\u001b[0;34m(\u001b[0m\u001b[0mself\u001b[0m\u001b[0;34m)\u001b[0m\u001b[0;34m.\u001b[0m\u001b[0mrun\u001b[0m\u001b[0;34m(\u001b[0m\u001b[0;34m)\u001b[0m\u001b[0;34m\u001b[0m\u001b[0m\n",
      "\u001b[0;32m/Users/mingyeungcheung/anaconda/lib/python3.6/site-packages/nltk/downloader.py\u001b[0m in \u001b[0;36mmainloop\u001b[0;34m(self, *args, **kwargs)\u001b[0m\n\u001b[1;32m   1715\u001b[0m \u001b[0;34m\u001b[0m\u001b[0m\n\u001b[1;32m   1716\u001b[0m     \u001b[0;32mdef\u001b[0m \u001b[0mmainloop\u001b[0m\u001b[0;34m(\u001b[0m\u001b[0mself\u001b[0m\u001b[0;34m,\u001b[0m \u001b[0;34m*\u001b[0m\u001b[0margs\u001b[0m\u001b[0;34m,\u001b[0m \u001b[0;34m**\u001b[0m\u001b[0mkwargs\u001b[0m\u001b[0;34m)\u001b[0m\u001b[0;34m:\u001b[0m\u001b[0;34m\u001b[0m\u001b[0m\n\u001b[0;32m-> 1717\u001b[0;31m         \u001b[0mself\u001b[0m\u001b[0;34m.\u001b[0m\u001b[0mtop\u001b[0m\u001b[0;34m.\u001b[0m\u001b[0mmainloop\u001b[0m\u001b[0;34m(\u001b[0m\u001b[0;34m*\u001b[0m\u001b[0margs\u001b[0m\u001b[0;34m,\u001b[0m \u001b[0;34m**\u001b[0m\u001b[0mkwargs\u001b[0m\u001b[0;34m)\u001b[0m\u001b[0;34m\u001b[0m\u001b[0m\n\u001b[0m\u001b[1;32m   1718\u001b[0m \u001b[0;34m\u001b[0m\u001b[0m\n\u001b[1;32m   1719\u001b[0m     \u001b[0;31m#/////////////////////////////////////////////////////////////////\u001b[0m\u001b[0;34m\u001b[0m\u001b[0;34m\u001b[0m\u001b[0m\n",
      "\u001b[0;32m/Users/mingyeungcheung/anaconda/lib/python3.6/tkinter/__init__.py\u001b[0m in \u001b[0;36mmainloop\u001b[0;34m(self, n)\u001b[0m\n\u001b[1;32m   1275\u001b[0m     \u001b[0;32mdef\u001b[0m \u001b[0mmainloop\u001b[0m\u001b[0;34m(\u001b[0m\u001b[0mself\u001b[0m\u001b[0;34m,\u001b[0m \u001b[0mn\u001b[0m\u001b[0;34m=\u001b[0m\u001b[0;36m0\u001b[0m\u001b[0;34m)\u001b[0m\u001b[0;34m:\u001b[0m\u001b[0;34m\u001b[0m\u001b[0m\n\u001b[1;32m   1276\u001b[0m         \u001b[0;34m\"\"\"Call the mainloop of Tk.\"\"\"\u001b[0m\u001b[0;34m\u001b[0m\u001b[0m\n\u001b[0;32m-> 1277\u001b[0;31m         \u001b[0mself\u001b[0m\u001b[0;34m.\u001b[0m\u001b[0mtk\u001b[0m\u001b[0;34m.\u001b[0m\u001b[0mmainloop\u001b[0m\u001b[0;34m(\u001b[0m\u001b[0mn\u001b[0m\u001b[0;34m)\u001b[0m\u001b[0;34m\u001b[0m\u001b[0m\n\u001b[0m\u001b[1;32m   1278\u001b[0m     \u001b[0;32mdef\u001b[0m \u001b[0mquit\u001b[0m\u001b[0;34m(\u001b[0m\u001b[0mself\u001b[0m\u001b[0;34m)\u001b[0m\u001b[0;34m:\u001b[0m\u001b[0;34m\u001b[0m\u001b[0m\n\u001b[1;32m   1279\u001b[0m         \u001b[0;34m\"\"\"Quit the Tcl interpreter. All widgets will be destroyed.\"\"\"\u001b[0m\u001b[0;34m\u001b[0m\u001b[0m\n",
      "\u001b[0;31mUnicodeDecodeError\u001b[0m: 'utf-8' codec can't decode byte 0x89 in position 0: invalid start byte"
     ]
    }
   ],
   "source": [
    "# nltk.download()"
   ]
  },
  {
   "cell_type": "code",
   "execution_count": null,
   "metadata": {
    "collapsed": true
   },
   "outputs": [],
   "source": []
  },
  {
   "cell_type": "code",
   "execution_count": 88,
   "metadata": {},
   "outputs": [
    {
     "data": {
      "text/plain": [
       "['Hello',\n",
       " ',',\n",
       " 'world',\n",
       " '!',\n",
       " 'I',\n",
       " 'come',\n",
       " 'in',\n",
       " 'peace',\n",
       " '.',\n",
       " 'How',\n",
       " 'can',\n",
       " 'I',\n",
       " 'help',\n",
       " 'you',\n",
       " '?']"
      ]
     },
     "execution_count": 88,
     "metadata": {},
     "output_type": "execute_result"
    }
   ],
   "source": [
    "nltk.word_tokenize(greet)"
   ]
  },
  {
   "cell_type": "code",
   "execution_count": 90,
   "metadata": {},
   "outputs": [
    {
     "name": "stdout",
     "output_type": "stream",
     "text": [
      "Help on function word_tokenize in module nltk.tokenize:\n",
      "\n",
      "word_tokenize(text, language='english', preserve_line=False)\n",
      "    Return a tokenized copy of *text*,\n",
      "    using NLTK's recommended word tokenizer\n",
      "    (currently an improved :class:`.TreebankWordTokenizer`\n",
      "    along with :class:`.PunktSentenceTokenizer`\n",
      "    for the specified language).\n",
      "    \n",
      "    :param text: text to split into words\n",
      "    :param text: str\n",
      "    :param language: the model name in the Punkt corpus\n",
      "    :type language: str\n",
      "    :param preserve_line: An option to keep the preserve the sentence and not sentence tokenize it.\n",
      "    :type preserver_line: bool\n",
      "\n"
     ]
    }
   ],
   "source": [
    "help(nltk.word_tokenize)"
   ]
  },
  {
   "cell_type": "code",
   "execution_count": 91,
   "metadata": {},
   "outputs": [
    {
     "name": "stdout",
     "output_type": "stream",
     "text": [
      "['Rose', 'is', 'a', 'rose', 'is', 'a', 'rose', 'is', 'a', 'rose']\n"
     ]
    }
   ],
   "source": [
    "sent = 'Rose is a rose is a rose is a rose'\n",
    "toks = nltk.word_tokenize(sent)\n",
    "print(toks)"
   ]
  },
  {
   "cell_type": "code",
   "execution_count": 94,
   "metadata": {},
   "outputs": [
    {
     "data": {
      "text/plain": [
       "FreqDist({'Rose': 1, 'a': 3, 'is': 3, 'rose': 3})"
      ]
     },
     "execution_count": 94,
     "metadata": {},
     "output_type": "execute_result"
    }
   ],
   "source": [
    "freq = nltk.FreqDist(toks)\n",
    "freq"
   ]
  },
  {
   "cell_type": "code",
   "execution_count": 16,
   "metadata": {},
   "outputs": [
    {
     "data": {
      "text/plain": [
       "['Hello',\n",
       " ',',\n",
       " 'world',\n",
       " ',',\n",
       " 'I',\n",
       " \"'m\",\n",
       " 'here',\n",
       " '!',\n",
       " 'Do',\n",
       " 'you',\n",
       " 'recognize',\n",
       " 'me',\n",
       " '?']"
      ]
     },
     "execution_count": 16,
     "metadata": {},
     "output_type": "execute_result"
    }
   ],
   "source": [
    "greet = \"Hello, world, I'm here! Do you recognize me?\"\n",
    "nltk.word_tokenize(greet)"
   ]
  },
  {
   "cell_type": "code",
   "execution_count": 17,
   "metadata": {},
   "outputs": [
    {
     "data": {
      "text/plain": [
       "['You', 'have', \"n't\", 'see', 'Star', 'Wars', '...', '?']"
      ]
     },
     "execution_count": 17,
     "metadata": {},
     "output_type": "execute_result"
    }
   ],
   "source": [
    "sent = \"You haven't see Star Wars...?\"\n",
    "nltk.word_tokenize(sent)"
   ]
  },
  {
   "cell_type": "code",
   "execution_count": 18,
   "metadata": {},
   "outputs": [
    {
     "name": "stdout",
     "output_type": "stream",
     "text": [
      "['Rose', 'is', 'a', 'rose', 'is', 'a', 'rose', 'is', 'a', 'rose', '.']\n"
     ]
    }
   ],
   "source": [
    "# First \"rose\" is capitalized. How to lowercase?\n",
    "sent = 'Rose is a rose is a rose is a rose.'\n",
    "toks = nltk.word_tokenize(sent)\n",
    "print(toks)"
   ]
  },
  {
   "cell_type": "code",
   "execution_count": 19,
   "metadata": {},
   "outputs": [
    {
     "data": {
      "text/plain": [
       "FreqDist({'.': 1, 'Rose': 1, 'a': 3, 'is': 3, 'rose': 3})"
      ]
     },
     "execution_count": 19,
     "metadata": {},
     "output_type": "execute_result"
    }
   ],
   "source": [
    "freq = nltk.FreqDist(toks)\n",
    "freq"
   ]
  },
  {
   "cell_type": "code",
   "execution_count": 20,
   "metadata": {},
   "outputs": [
    {
     "data": {
      "text/plain": [
       "[('is', 3), ('a', 3), ('rose', 3)]"
      ]
     },
     "execution_count": 20,
     "metadata": {},
     "output_type": "execute_result"
    }
   ],
   "source": [
    "freq.most_common(3)"
   ]
  },
  {
   "cell_type": "code",
   "execution_count": 24,
   "metadata": {},
   "outputs": [
    {
     "data": {
      "text/plain": [
       "dict_keys(['Rose', 'is', 'a', 'rose', '.'])"
      ]
     },
     "execution_count": 24,
     "metadata": {},
     "output_type": "execute_result"
    }
   ],
   "source": [
    "freq.keys()"
   ]
  },
  {
   "cell_type": "code",
   "execution_count": 34,
   "metadata": {},
   "outputs": [],
   "source": [
    "myfile = '/Users/mingyeungcheung/Desktop/inaugural/1789-Washington.txt'\n",
    "wtxt = open(myfile).read()\n",
    "print(wtxt)"
   ]
  },
  {
   "cell_type": "code",
   "execution_count": 30,
   "metadata": {
    "scrolled": true
   },
   "outputs": [
    {
     "data": {
      "text/plain": [
       "False"
      ]
     },
     "execution_count": 30,
     "metadata": {},
     "output_type": "execute_result"
    }
   ],
   "source": [
    "'fellow citizens' in wtxt"
   ]
  },
  {
   "cell_type": "code",
   "execution_count": 31,
   "metadata": {},
   "outputs": [
    {
     "name": "stdout",
     "output_type": "stream",
     "text": [
      "Pretty printing has been turned OFF\n"
     ]
    }
   ],
   "source": [
    "# Toggle off/on pretty printing\n",
    "%pprint"
   ]
  },
  {
   "cell_type": "code",
   "execution_count": 35,
   "metadata": {
    "scrolled": true
   },
   "outputs": [
    {
     "data": {
      "text/plain": [
       "['Fellow-Citizens', 'of', 'the', 'Senate', 'and', 'of', 'the', 'House', 'of', 'Representatives', ':', 'Among', 'the', 'vicissitudes', 'incident', 'to', 'life', 'no', 'event', 'could', 'have', 'filled', 'me', 'with', 'greater', 'anxieties', 'than', 'that', 'of', 'which', 'the', 'notification', 'was', 'transmitted', 'by', 'your', 'order', ',', 'and', 'received', 'on', 'the', '14th', 'day', 'of', 'the', 'present', 'month', '.', 'On', 'the', 'one', 'hand', ',', 'I', 'was', 'summoned', 'by', 'my', 'Country', ',', 'whose', 'voice', 'I', 'can', 'never', 'hear', 'but', 'with', 'veneration', 'and', 'love', ',', 'from', 'a', 'retreat', 'which', 'I', 'had', 'chosen', 'with', 'the', 'fondest', 'predilection', ',', 'and', ',', 'in', 'my', 'flattering', 'hopes', ',', 'with', 'an', 'immutable', 'decision', ',', 'as', 'the', 'asylum', 'of', 'my', 'declining', 'years', '--', 'a', 'retreat', 'which', 'was', 'rendered', 'every', 'day', 'more', 'necessary', 'as', 'well', 'as', 'more', 'dear', 'to', 'me', 'by', 'the', 'addition', 'of', 'habit', 'to', 'inclination', ',', 'and', 'of', 'frequent', 'interruptions', 'in', 'my', 'health', 'to', 'the', 'gradual', 'waste', 'committed', 'on', 'it', 'by', 'time', '.', 'On', 'the', 'other', 'hand', ',', 'the', 'magnitude', 'and', 'difficulty', 'of', 'the', 'trust', 'to', 'which', 'the', 'voice', 'of', 'my', 'country', 'called', 'me', ',', 'being', 'sufficient', 'to', 'awaken', 'in', 'the', 'wisest', 'and', 'most', 'experienced', 'of', 'her', 'citizens', 'a', 'distrustful', 'scrutiny', 'into', 'his', 'qualifications', ',', 'could', 'not', 'but', 'overwhelm', 'with', 'despondence', 'one', 'who', '(', 'inheriting', 'inferior', 'endowments', 'from', 'nature', 'and', 'unpracticed', 'in', 'the', 'duties', 'of', 'civil', 'administration', ')', 'ought', 'to', 'be', 'peculiarly', 'conscious', 'of', 'his', 'own', 'deficiencies', '.', 'In', 'this', 'conflict', 'of', 'emotions', 'all', 'I', 'dare', 'aver', 'is', 'that', 'it', 'has', 'been', 'my', 'faithful', 'study', 'to', 'collect', 'my', 'duty', 'from', 'a', 'just', 'appreciation', 'of', 'every', 'circumstance', 'by', 'which', 'it', 'might', 'be', 'affected', '.', 'All', 'I', 'dare', 'hope', 'is', 'that', 'if', ',', 'in', 'executing', 'this', 'task', ',', 'I', 'have', 'been', 'too', 'much', 'swayed', 'by', 'a', 'grateful', 'remembrance', 'of', 'former', 'instances', ',', 'or', 'by', 'an', 'affectionate', 'sensibility', 'to', 'this', 'transcendent', 'proof', 'of', 'the', 'confidence', 'of', 'my', 'fellow', 'citizens', ',', 'and', 'have', 'thence', 'too', 'little', 'consulted', 'my', 'incapacity', 'as', 'well', 'as', 'disinclination', 'for', 'the', 'weighty', 'and', 'untried', 'cares', 'before', 'me', ',', 'my', 'error', 'will', 'be', 'palliated', 'by', 'the', 'motives', 'which', 'mislead', 'me', ',', 'and', 'its', 'consequences', 'be', 'judged', 'by', 'my', 'country', 'with', 'some', 'share', 'of', 'the', 'partiality', 'in', 'which', 'they', 'originated', '.', 'Such', 'being', 'the', 'impressions', 'under', 'which', 'I', 'have', ',', 'in', 'obedience', 'to', 'the', 'public', 'summons', ',', 'repaired', 'to', 'the', 'present', 'station', ',', 'it', 'would', 'be', 'peculiarly', 'improper', 'to', 'omit', 'in', 'this', 'first', 'official', 'act', 'my', 'fervent', 'supplications', 'to', 'that', 'Almighty', 'Being', 'who', 'rules', 'over', 'the', 'universe', ',', 'who', 'presides', 'in', 'the', 'councils', 'of', 'nations', ',', 'and', 'whose', 'providential', 'aids', 'can', 'supply', 'every', 'human', 'defect', ',', 'that', 'His', 'benediction', 'may', 'consecrate', 'to', 'the', 'liberties', 'and', 'happiness', 'of', 'the', 'people', 'of', 'the', 'United', 'States', 'a', 'Government', 'instituted', 'by', 'themselves', 'for', 'these', 'essential', 'purposes', ',', 'and', 'may', 'enable', 'every', 'instrument', 'employed', 'in', 'its', 'administration', 'to', 'execute', 'with', 'success', 'the', 'functions', 'allotted', 'to', 'his', 'charge', '.', 'In', 'tendering', 'this', 'homage', 'to', 'the', 'Great', 'Author', 'of', 'every', 'public', 'and', 'private', 'good', ',', 'I', 'assure', 'myself', 'that', 'it', 'expresses', 'your', 'sentiments', 'not', 'less', 'than', 'my', 'own', ',', 'nor', 'those', 'of', 'my', 'fellow', 'citizens', 'at', 'large', 'less', 'than', 'either', '.', 'No', 'people', 'can', 'be', 'bound', 'to', 'acknowledge', 'and', 'adore', 'the', 'Invisible', 'Hand', 'which', 'conducts', 'the', 'affairs', 'of', 'men', 'more', 'than', 'those', 'of', 'the', 'United', 'States', '.', 'Every', 'step', 'by', 'which', 'they', 'have', 'advanced', 'to', 'the', 'character', 'of', 'an', 'independent', 'nation', 'seems', 'to', 'have', 'been', 'distinguished', 'by', 'some', 'token', 'of', 'providential', 'agency', ';', 'and', 'in', 'the', 'important', 'revolution', 'just', 'accomplished', 'in', 'the', 'system', 'of', 'their', 'united', 'government', 'the', 'tranquil', 'deliberations', 'and', 'voluntary', 'consent', 'of', 'so', 'many', 'distinct', 'communities', 'from', 'which', 'the', 'event', 'has', 'resulted', 'can', 'not', 'be', 'compared', 'with', 'the', 'means', 'by', 'which', 'most', 'governments', 'have', 'been', 'established', 'without', 'some', 'return', 'of', 'pious', 'gratitude', ',', 'along', 'with', 'an', 'humble', 'anticipation', 'of', 'the', 'future', 'blessings', 'which', 'the', 'past', 'seem', 'to', 'presage', '.', 'These', 'reflections', ',', 'arising', 'out', 'of', 'the', 'present', 'crisis', ',', 'have', 'forced', 'themselves', 'too', 'strongly', 'on', 'my', 'mind', 'to', 'be', 'suppressed', '.', 'You', 'will', 'join', 'with', 'me', ',', 'I', 'trust', ',', 'in', 'thinking', 'that', 'there', 'are', 'none', 'under', 'the', 'influence', 'of', 'which', 'the', 'proceedings', 'of', 'a', 'new', 'and', 'free', 'government', 'can', 'more', 'auspiciously', 'commence', '.', 'By', 'the', 'article', 'establishing', 'the', 'executive', 'department', 'it', 'is', 'made', 'the', 'duty', 'of', 'the', 'President', '``', 'to', 'recommend', 'to', 'your', 'consideration', 'such', 'measures', 'as', 'he', 'shall', 'judge', 'necessary', 'and', 'expedient', '.', \"''\", 'The', 'circumstances', 'under', 'which', 'I', 'now', 'meet', 'you', 'will', 'acquit', 'me', 'from', 'entering', 'into', 'that', 'subject', 'further', 'than', 'to', 'refer', 'to', 'the', 'great', 'constitutional', 'charter', 'under', 'which', 'you', 'are', 'assembled', ',', 'and', 'which', ',', 'in', 'defining', 'your', 'powers', ',', 'designates', 'the', 'objects', 'to', 'which', 'your', 'attention', 'is', 'to', 'be', 'given', '.', 'It', 'will', 'be', 'more', 'consistent', 'with', 'those', 'circumstances', ',', 'and', 'far', 'more', 'congenial', 'with', 'the', 'feelings', 'which', 'actuate', 'me', ',', 'to', 'substitute', ',', 'in', 'place', 'of', 'a', 'recommendation', 'of', 'particular', 'measures', ',', 'the', 'tribute', 'that', 'is', 'due', 'to', 'the', 'talents', ',', 'the', 'rectitude', ',', 'and', 'the', 'patriotism', 'which', 'adorn', 'the', 'characters', 'selected', 'to', 'devise', 'and', 'adopt', 'them', '.', 'In', 'these', 'honorable', 'qualifications', 'I', 'behold', 'the', 'surest', 'pledges', 'that', 'as', 'on', 'one', 'side', 'no', 'local', 'prejudices', 'or', 'attachments', ',', 'no', 'separate', 'views', 'nor', 'party', 'animosities', ',', 'will', 'misdirect', 'the', 'comprehensive', 'and', 'equal', 'eye', 'which', 'ought', 'to', 'watch', 'over', 'this', 'great', 'assemblage', 'of', 'communities', 'and', 'interests', ',', 'so', ',', 'on', 'another', ',', 'that', 'the', 'foundation', 'of', 'our', 'national', 'policy', 'will', 'be', 'laid', 'in', 'the', 'pure', 'and', 'immutable', 'principles', 'of', 'private', 'morality', ',', 'and', 'the', 'preeminence', 'of', 'free', 'government', 'be', 'exemplified', 'by', 'all', 'the', 'attributes', 'which', 'can', 'win', 'the', 'affections', 'of', 'its', 'citizens', 'and', 'command', 'the', 'respect', 'of', 'the', 'world', '.', 'I', 'dwell', 'on', 'this', 'prospect', 'with', 'every', 'satisfaction', 'which', 'an', 'ardent', 'love', 'for', 'my', 'country', 'can', 'inspire', ',', 'since', 'there', 'is', 'no', 'truth', 'more', 'thoroughly', 'established', 'than', 'that', 'there', 'exists', 'in', 'the', 'economy', 'and', 'course', 'of', 'nature', 'an', 'indissoluble', 'union', 'between', 'virtue', 'and', 'happiness', ';', 'between', 'duty', 'and', 'advantage', ';', 'between', 'the', 'genuine', 'maxims', 'of', 'an', 'honest', 'and', 'magnanimous', 'policy', 'and', 'the', 'solid', 'rewards', 'of', 'public', 'prosperity', 'and', 'felicity', ';', 'since', 'we', 'ought', 'to', 'be', 'no', 'less', 'persuaded', 'that', 'the', 'propitious', 'smiles', 'of', 'Heaven', 'can', 'never', 'be', 'expected', 'on', 'a', 'nation', 'that', 'disregards', 'the', 'eternal', 'rules', 'of', 'order', 'and', 'right', 'which', 'Heaven', 'itself', 'has', 'ordained', ';', 'and', 'since', 'the', 'preservation', 'of', 'the', 'sacred', 'fire', 'of', 'liberty', 'and', 'the', 'destiny', 'of', 'the', 'republican', 'model', 'of', 'government', 'are', 'justly', 'considered', ',', 'perhaps', ',', 'as', 'deeply', ',', 'as', 'finally', ',', 'staked', 'on', 'the', 'experiment', 'entrusted', 'to', 'the', 'hands', 'of', 'the', 'American', 'people', '.', 'Besides', 'the', 'ordinary', 'objects', 'submitted', 'to', 'your', 'care', ',', 'it', 'will', 'remain', 'with', 'your', 'judgment', 'to', 'decide', 'how', 'far', 'an', 'exercise', 'of', 'the', 'occasional', 'power', 'delegated', 'by', 'the', 'fifth', 'article', 'of', 'the', 'Constitution', 'is', 'rendered', 'expedient', 'at', 'the', 'present', 'juncture', 'by', 'the', 'nature', 'of', 'objections', 'which', 'have', 'been', 'urged', 'against', 'the', 'system', ',', 'or', 'by', 'the', 'degree', 'of', 'inquietude', 'which', 'has', 'given', 'birth', 'to', 'them', '.', 'Instead', 'of', 'undertaking', 'particular', 'recommendations', 'on', 'this', 'subject', ',', 'in', 'which', 'I', 'could', 'be', 'guided', 'by', 'no', 'lights', 'derived', 'from', 'official', 'opportunities', ',', 'I', 'shall', 'again', 'give', 'way', 'to', 'my', 'entire', 'confidence', 'in', 'your', 'discernment', 'and', 'pursuit', 'of', 'the', 'public', 'good', ';', 'for', 'I', 'assure', 'myself', 'that', 'whilst', 'you', 'carefully', 'avoid', 'every', 'alteration', 'which', 'might', 'endanger', 'the', 'benefits', 'of', 'an', 'united', 'and', 'effective', 'government', ',', 'or', 'which', 'ought', 'to', 'await', 'the', 'future', 'lessons', 'of', 'experience', ',', 'a', 'reverence', 'for', 'the', 'characteristic', 'rights', 'of', 'freemen', 'and', 'a', 'regard', 'for', 'the', 'public', 'harmony', 'will', 'sufficiently', 'influence', 'your', 'deliberations', 'on', 'the', 'question', 'how', 'far', 'the', 'former', 'can', 'be', 'impregnably', 'fortified', 'or', 'the', 'latter', 'be', 'safely', 'and', 'advantageously', 'promoted', '.', 'To', 'the', 'foregoing', 'observations', 'I', 'have', 'one', 'to', 'add', ',', 'which', 'will', 'be', 'most', 'properly', 'addressed', 'to', 'the', 'House', 'of', 'Representatives', '.', 'It', 'concerns', 'myself', ',', 'and', 'will', 'therefore', 'be', 'as', 'brief', 'as', 'possible', '.', 'When', 'I', 'was', 'first', 'honored', 'with', 'a', 'call', 'into', 'the', 'service', 'of', 'my', 'country', ',', 'then', 'on', 'the', 'eve', 'of', 'an', 'arduous', 'struggle', 'for', 'its', 'liberties', ',', 'the', 'light', 'in', 'which', 'I', 'contemplated', 'my', 'duty', 'required', 'that', 'I', 'should', 'renounce', 'every', 'pecuniary', 'compensation', '.', 'From', 'this', 'resolution', 'I', 'have', 'in', 'no', 'instance', 'departed', ';', 'and', 'being', 'still', 'under', 'the', 'impressions', 'which', 'produced', 'it', ',', 'I', 'must', 'decline', 'as', 'inapplicable', 'to', 'myself', 'any', 'share', 'in', 'the', 'personal', 'emoluments', 'which', 'may', 'be', 'indispensably', 'included', 'in', 'a', 'permanent', 'provision', 'for', 'the', 'executive', 'department', ',', 'and', 'must', 'accordingly', 'pray', 'that', 'the', 'pecuniary', 'estimates', 'for', 'the', 'station', 'in', 'which', 'I', 'am', 'placed', 'may', 'during', 'my', 'continuance', 'in', 'it', 'be', 'limited', 'to', 'such', 'actual', 'expenditures', 'as', 'the', 'public', 'good', 'may', 'be', 'thought', 'to', 'require', '.', 'Having', 'thus', 'imparted', 'to', 'you', 'my', 'sentiments', 'as', 'they', 'have', 'been', 'awakened', 'by', 'the', 'occasion', 'which', 'brings', 'us', 'together', ',', 'I', 'shall', 'take', 'my', 'present', 'leave', ';', 'but', 'not', 'without', 'resorting', 'once', 'more', 'to', 'the', 'benign', 'Parent', 'of', 'the', 'Human', 'Race', 'in', 'humble', 'supplication', 'that', ',', 'since', 'He', 'has', 'been', 'pleased', 'to', 'favor', 'the', 'American', 'people', 'with', 'opportunities', 'for', 'deliberating', 'in', 'perfect', 'tranquillity', ',', 'and', 'dispositions', 'for', 'deciding', 'with', 'unparalleled', 'unanimity', 'on', 'a', 'form', 'of', 'government', 'for', 'the', 'security', 'of', 'their', 'union', 'and', 'the', 'advancement', 'of', 'their', 'happiness', ',', 'so', 'His', 'divine', 'blessing', 'may', 'be', 'equally', 'conspicuous', 'in', 'the', 'enlarged', 'views', ',', 'the', 'temperate', 'consultations', ',', 'and', 'the', 'wise', 'measures', 'on', 'which', 'the', 'success', 'of', 'this', 'Government', 'must', 'depend', '.']"
      ]
     },
     "execution_count": 35,
     "metadata": {},
     "output_type": "execute_result"
    }
   ],
   "source": [
    "# Tokenize text\n",
    "nltk.word_tokenize(wtxt)"
   ]
  },
  {
   "cell_type": "code",
   "execution_count": 36,
   "metadata": {},
   "outputs": [
    {
     "data": {
      "text/plain": [
       "1537"
      ]
     },
     "execution_count": 36,
     "metadata": {},
     "output_type": "execute_result"
    }
   ],
   "source": [
    "wtokens = nltk.word_tokenize(wtxt)\n",
    "len(wtokens) # Number of words in text"
   ]
  },
  {
   "cell_type": "code",
   "execution_count": 38,
   "metadata": {},
   "outputs": [
    {
     "data": {
      "text/plain": [
       "115"
      ]
     },
     "execution_count": 38,
     "metadata": {},
     "output_type": "execute_result"
    }
   ],
   "source": [
    "wfreq = nltk.FreqDist(wtokens)\n",
    "wfreq['the']"
   ]
  },
  {
   "cell_type": "code",
   "execution_count": 39,
   "metadata": {},
   "outputs": [
    {
     "data": {
      "text/plain": [
       "False"
      ]
     },
     "execution_count": 39,
     "metadata": {},
     "output_type": "execute_result"
    }
   ],
   "source": [
    "'th' in wtokens"
   ]
  },
  {
   "cell_type": "code",
   "execution_count": 40,
   "metadata": {},
   "outputs": [
    {
     "data": {
      "text/plain": [
       "626"
      ]
     },
     "execution_count": 40,
     "metadata": {},
     "output_type": "execute_result"
    }
   ],
   "source": [
    "len(wfreq)"
   ]
  },
  {
   "cell_type": "code",
   "execution_count": 42,
   "metadata": {},
   "outputs": [
    {
     "data": {
      "text/plain": [
       "[('the', 115), ('of', 71), (',', 70), ('and', 48), ('to', 47), ('which', 36), ('in', 28), ('.', 23), ('I', 23), ('be', 23), ('my', 22), ('by', 19), ('that', 18), ('with', 17), ('a', 14), ('as', 14), ('on', 13), ('have', 12), ('for', 12), ('an', 10), ('this', 10), ('will', 10), ('your', 9), ('can', 9), ('it', 9), ('me', 8), ('every', 8), ('more', 8), (';', 8), ('no', 7), ('is', 7), ('been', 7), ('than', 6), ('from', 6), ('public', 6), ('may', 6), ('government', 6), ('present', 5), ('has', 5), ('or', 5), ('under', 5), ('was', 4), ('one', 4), ('country', 4), ('citizens', 4), ('not', 4), ('ought', 4), ('duty', 4), ('its', 4), ('people', 4), ('myself', 4), ('you', 4), ('since', 4), ('could', 3), ('but', 3), ('being', 3), ('most', 3), ('into', 3), ('his', 3), ('who', 3)]"
      ]
     },
     "execution_count": 42,
     "metadata": {},
     "output_type": "execute_result"
    }
   ],
   "source": [
    "wfreq.most_common(60)"
   ]
  },
  {
   "cell_type": "code",
   "execution_count": 44,
   "metadata": {},
   "outputs": [
    {
     "data": {
      "text/plain": [
       "['B', 'N', 'Nr', '_N', '__add__', '__and__', '__class__', '__contains__', '__delattr__', '__delitem__', '__dict__', '__dir__', '__doc__', '__eq__', '__format__', '__ge__', '__getattribute__', '__getitem__', '__gt__', '__hash__', '__iadd__', '__iand__', '__init__', '__init_subclass__', '__ior__', '__isub__', '__iter__', '__le__', '__len__', '__lt__', '__missing__', '__module__', '__ne__', '__neg__', '__new__', '__or__', '__pos__', '__reduce__', '__reduce_ex__', '__repr__', '__setattr__', '__setitem__', '__sizeof__', '__str__', '__sub__', '__subclasshook__', '__unicode__', '__weakref__', '_cumulative_frequencies', '_keep_positive', 'clear', 'copy', 'elements', 'freq', 'fromkeys', 'get', 'hapaxes', 'items', 'keys', 'max', 'most_common', 'pformat', 'plot', 'pop', 'popitem', 'pprint', 'r_Nr', 'setdefault', 'subtract', 'tabulate', 'unicode_repr', 'update', 'values']"
      ]
     },
     "execution_count": 44,
     "metadata": {},
     "output_type": "execute_result"
    }
   ],
   "source": [
    "dir(wfreq)"
   ]
  },
  {
   "cell_type": "code",
   "execution_count": 45,
   "metadata": {},
   "outputs": [
    {
     "data": {
      "text/plain": [
       "0.07482108002602472"
      ]
     },
     "execution_count": 45,
     "metadata": {},
     "output_type": "execute_result"
    }
   ],
   "source": [
    "wfreq.freq('the')"
   ]
  },
  {
   "cell_type": "code",
   "execution_count": 47,
   "metadata": {},
   "outputs": [
    {
     "data": {
      "text/plain": [
       "467"
      ]
     },
     "execution_count": 47,
     "metadata": {},
     "output_type": "execute_result"
    }
   ],
   "source": [
    "len(wfreq.hapaxes())"
   ]
  },
  {
   "cell_type": "code",
   "execution_count": null,
   "metadata": {
    "collapsed": true
   },
   "outputs": [],
   "source": []
  }
 ],
 "metadata": {
  "kernelspec": {
   "display_name": "Python 3",
   "language": "python",
   "name": "python3"
  },
  "language_info": {
   "codemirror_mode": {
    "name": "ipython",
    "version": 3
   },
   "file_extension": ".py",
   "mimetype": "text/x-python",
   "name": "python",
   "nbconvert_exporter": "python",
   "pygments_lexer": "ipython3",
   "version": "3.6.1"
  }
 },
 "nbformat": 4,
 "nbformat_minor": 2
}
