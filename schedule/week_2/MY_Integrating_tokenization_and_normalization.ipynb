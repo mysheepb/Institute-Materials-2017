{
 "cells": [
  {
   "cell_type": "markdown",
   "metadata": {},
   "source": [
    "# Integrating normalization with tokenization\n",
    "\n",
    "## Structure"
   ]
  },
  {
   "cell_type": "code",
   "execution_count": 1,
   "metadata": {},
   "outputs": [
    {
     "ename": "TypeError",
     "evalue": "'NoneType' object is not iterable",
     "output_type": "error",
     "traceback": [
      "\u001b[0;31m---------------------------------------------------------------------------\u001b[0m",
      "\u001b[0;31mTypeError\u001b[0m                                 Traceback (most recent call last)",
      "\u001b[0;32m<ipython-input-1-62b547f9dd49>\u001b[0m in \u001b[0;36m<module>\u001b[0;34m()\u001b[0m\n\u001b[1;32m      8\u001b[0m \u001b[0mtokens\u001b[0m \u001b[0;34m=\u001b[0m \u001b[0mtokenize\u001b[0m\u001b[0;34m(\u001b[0m\u001b[0msample\u001b[0m\u001b[0;34m)\u001b[0m\u001b[0;34m\u001b[0m\u001b[0m\n\u001b[1;32m      9\u001b[0m \u001b[0;31m# print(tokens)\u001b[0m\u001b[0;34m\u001b[0m\u001b[0;34m\u001b[0m\u001b[0m\n\u001b[0;32m---> 10\u001b[0;31m \u001b[0mnormalized\u001b[0m \u001b[0;34m=\u001b[0m \u001b[0;34m[\u001b[0m\u001b[0mnormalize\u001b[0m\u001b[0;34m(\u001b[0m\u001b[0mtoken\u001b[0m\u001b[0;34m)\u001b[0m \u001b[0;32mfor\u001b[0m \u001b[0mtoken\u001b[0m \u001b[0;32min\u001b[0m \u001b[0mtokens\u001b[0m\u001b[0;34m]\u001b[0m\u001b[0;34m\u001b[0m\u001b[0m\n\u001b[0m\u001b[1;32m     11\u001b[0m \u001b[0mprint\u001b[0m\u001b[0;34m(\u001b[0m\u001b[0mnormalized\u001b[0m\u001b[0;34m)\u001b[0m\u001b[0;34m\u001b[0m\u001b[0m\n",
      "\u001b[0;31mTypeError\u001b[0m: 'NoneType' object is not iterable"
     ]
    }
   ],
   "source": [
    "def tokenize(input):\n",
    "    pass\n",
    "\n",
    "def normalize(input):\n",
    "    pass\n",
    "\n",
    "sample = \"Hello, Mom!\"\n",
    "tokens = tokenize(sample)\n",
    "# print(tokens)\n",
    "normalized = [normalize(token) for token in tokens]\n",
    "print(normalized)"
   ]
  },
  {
   "cell_type": "markdown",
   "metadata": {},
   "source": [
    "## Examples\n",
    "\n",
    "### Tokenize on white space and normalize as lower case"
   ]
  },
  {
   "cell_type": "code",
   "execution_count": 1,
   "metadata": {},
   "outputs": [
    {
     "name": "stdout",
     "output_type": "stream",
     "text": [
      "[('Hello,', 'hello,'), ('Mom!', 'mom!')]\n"
     ]
    }
   ],
   "source": [
    "def tokenize(input): # tokenize on white space\n",
    "    return input.split()\n",
    "\n",
    "def normalize(input): # normalize as lower case\n",
    "    return (input, input.lower())\n",
    "\n",
    "sample = \"Hello, Mom!\"\n",
    "tokens = tokenize(sample)\n",
    "# print(tokens)\n",
    "normalized = [normalize(token) for token in tokens]\n",
    "print(normalized)"
   ]
  },
  {
   "cell_type": "markdown",
   "metadata": {},
   "source": [
    "### Use NLTK word tokenization and normalize as POS"
   ]
  },
  {
   "cell_type": "code",
   "execution_count": 7,
   "metadata": {},
   "outputs": [
    {
     "name": "stdout",
     "output_type": "stream",
     "text": [
      "[[('Hello', 'NN')], [(',', ',')], [('Mom', 'NN')], [('!', '.')]]\n"
     ]
    }
   ],
   "source": [
    "import nltk\n",
    "\n",
    "def tokenize(input): # use NLTK word tokenization\n",
    "    return nltk.word_tokenize(input)\n",
    "\n",
    "def normalize(input): # normalize as POS\n",
    "    pos = nltk.pos_tag([input]) # since it’s a single word, make it a list\n",
    "    # print(pos)\n",
    "    return (pos)\n",
    "\n",
    "sample = \"Hello, Mom!\"\n",
    "tokens = tokenize(sample)\n",
    "# print(tokens)\n",
    "normalized = [normalize(token) for token in tokens]\n",
    "print(normalized)"
   ]
  },
  {
   "cell_type": "markdown",
   "metadata": {},
   "source": [
    "### Use NLTK word tokenization and strip vowels and punctuation to normalize"
   ]
  },
  {
   "cell_type": "code",
   "execution_count": 21,
   "metadata": {},
   "outputs": [
    {
     "name": "stdout",
     "output_type": "stream",
     "text": [
      "[('Hello', 'NN', 'hll'), (',', ',', ','), ('Mom', 'NN', 'mm'), ('!', '.', '!')]\n"
     ]
    }
   ],
   "source": [
    "import re\n",
    "\n",
    "def tokenize(input): # use NLTK word tokenization\n",
    "    return nltk.word_tokenize(input)\n",
    "\n",
    "def normalize(input): # normalize as POS + strip vowels + lowercase\n",
    "    pos = nltk.pos_tag([input]) # since it’s a single word, make it a list\n",
    "    #print('POS: ', pos, 'word: ', pos[0][0])\n",
    "    return input, pos[0][1], re.sub('[aeiou]','',input.lower())\n",
    "\n",
    "sample = \"Hello, Mom!\"\n",
    "tokens = tokenize(sample)\n",
    "# print(tokens)\n",
    "normalized = [normalize(token) for token in tokens]\n",
    "print(normalized)"
   ]
  },
  {
   "cell_type": "code",
   "execution_count": null,
   "metadata": {
    "collapsed": true
   },
   "outputs": [],
   "source": []
  }
 ],
 "metadata": {
  "kernelspec": {
   "display_name": "Python 3",
   "language": "python",
   "name": "python3"
  },
  "language_info": {
   "codemirror_mode": {
    "name": "ipython",
    "version": 3
   },
   "file_extension": ".py",
   "mimetype": "text/x-python",
   "name": "python",
   "nbconvert_exporter": "python",
   "pygments_lexer": "ipython3",
   "version": "3.6.1"
  }
 },
 "nbformat": 4,
 "nbformat_minor": 2
}
